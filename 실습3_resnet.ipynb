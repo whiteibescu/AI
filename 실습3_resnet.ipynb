{
  "nbformat": 4,
  "nbformat_minor": 0,
  "metadata": {
    "accelerator": "GPU",
    "colab": {
      "name": "실습3_resnet.ipynb",
      "provenance": [],
      "collapsed_sections": [],
      "include_colab_link": true
    },
    "kernelspec": {
      "display_name": "Python 3",
      "language": "python",
      "name": "python3"
    },
    "language_info": {
      "codemirror_mode": {
        "name": "ipython",
        "version": 3
      },
      "file_extension": ".py",
      "mimetype": "text/x-python",
      "name": "python",
      "nbconvert_exporter": "python",
      "pygments_lexer": "ipython3",
      "version": "3.8.11"
    }
  },
  "cells": [
    {
      "cell_type": "markdown",
      "metadata": {
        "id": "view-in-github",
        "colab_type": "text"
      },
      "source": [
        "<a href=\"https://colab.research.google.com/github/whiteibescu/AI/blob/main/%EC%8B%A4%EC%8A%B53_resnet.ipynb\" target=\"_parent\"><img src=\"https://colab.research.google.com/assets/colab-badge.svg\" alt=\"Open In Colab\"/></a>"
      ]
    },
    {
      "cell_type": "code",
      "metadata": {
        "id": "m-CPuZX-APYR"
      },
      "source": [
        "import tensorflow as tf\n",
        "from tensorflow.keras import Model, layers\n",
        "import numpy as np\n",
        "from matplotlib import pyplot as plt\n",
        "import random\n",
        "\n",
        "random.seed(1)\n",
        "np.random.seed(1)\n",
        "tf.random.set_seed(1)"
      ],
      "execution_count": 1,
      "outputs": []
    },
    {
      "cell_type": "code",
      "metadata": {
        "id": "dONxJKqEAQGS",
        "colab": {
          "base_uri": "https://localhost:8080/"
        },
        "outputId": "355ae990-d0f0-4c6d-9241-d1311df67262"
      },
      "source": [
        "(x_trainval, y_trainval), (x_test, y_test) = tf.keras.datasets.mnist.load_data()\n",
        "\n",
        "num_classes = 10\n",
        "num_features = 784\n",
        "# Preprocess the data (these are NumPy arrays)\n",
        "x_trainval = x_trainval.reshape(-1,28,28,1)\n",
        "x_test = x_test.reshape(-1,28,28,1)\n",
        "\n",
        "x_trainval = x_trainval.astype(\"float32\") / 255\n",
        "x_test = x_test.astype(\"float32\") / 255\n",
        "\n",
        "y_trainval = y_trainval.astype(\"float32\")\n",
        "y_test = y_test.astype(\"float32\")\n",
        "\n",
        "# sklearn을 활용하여 간편하게 validation_set 만들기 \n",
        "from sklearn.model_selection import train_test_split\n",
        "x_train, x_valid, y_train, y_valid = train_test_split(x_trainval, y_trainval, test_size= 1/6, shuffle=True, stratify = y_trainval, random_state=34)\n",
        "\n"
      ],
      "execution_count": 2,
      "outputs": [
        {
          "output_type": "stream",
          "text": [
            "Downloading data from https://storage.googleapis.com/tensorflow/tf-keras-datasets/mnist.npz\n",
            "11493376/11490434 [==============================] - 0s 0us/step\n"
          ],
          "name": "stdout"
        }
      ]
    },
    {
      "cell_type": "code",
      "metadata": {
        "id": "Gp1btNjWBZUz"
      },
      "source": [
        "\n",
        "# block_layer를 class로 묶습니다. ResNet에서 skip_connection을 수행하기 위한 class 입니다. 반드시 resnet18 구조와 함께 확인하면서 보시길 바랍니다. \n",
        "class BasicBlock(layers.Layer):\n",
        "\n",
        "    def __init__(self, filter_num, stride=1):\n",
        "        super(BasicBlock, self).__init__()\n",
        "        self.conv1 = layers.Conv2D(filter_num, kernel_size=(3, 3), strides=stride, padding=\"same\",\n",
        "                                   kernel_initializer = tf.keras.initializers.he_normal())\n",
        "        self.bn1 = layers.BatchNormalization()\n",
        "        self.conv2 = layers.Conv2D(filter_num, kernel_size=(3, 3), strides=1, padding=\"same\",\n",
        "                                   kernel_initializer = tf.keras.initializers.he_normal())\n",
        "        self.bn2 = layers.BatchNormalization()\n",
        "        if stride != 1: # Resnet에서 x+F(x)를 수행할때 두개의 차원이 맞을때와 맞지 않을때가 있습니다. 이 부분은 stride != 1이므로 맞지 않은 경우이며 차원을 맞추는 방법이 들어가 있습니다. \n",
        "            self.downsample = tf.keras.Sequential()  #새롭게 self.downsample 을 정의 한 뒤, \n",
        "            self.downsample.add(layers.Conv2D(filter_num  ,kernel_size=(1, 1), strides=stride)) #kernel은 1로 한채 위의 convolution layer에서 수행한 것과 같은 stride를 통해 x의 차원을 F(x)에 맞게 줄여줍니다\n",
        "            self.downsample.add(layers.BatchNormalization()) #논문에서 batch_normalization을 했기에 그대로 적어넣었습니다.\n",
        "        else:\n",
        "            self.downsample = lambda x: x # 이때는 위의 stride(if문의 stride값이 아닙니다.)값이 1인 경우이기 때문에 x와 F(x)의 차원이 같아서 그대로 x값을 내려서 더해줍니다. \n",
        "\n",
        "\n",
        "    def call(self, x, is_training= False):\n",
        "        residual = self.downsample(x) #block을 통과해 나오는 값(X)를 residual 이라고 정의합니다\n",
        "\n",
        "        x = self.conv1(x)\n",
        "        x = self.bn1(x, training=is_training) # training=is_training을 통해 테스트 중에는 이 layer를 수행하지 않습니다. \n",
        "        x = tf.nn.relu(x)\n",
        "        x = self.conv2(x)\n",
        "        x = self.bn2(x, training=is_training)\n",
        "        x = tf.nn.relu(layers.add([residual, x])) # 이 작없을 통해 x+F(X)의 값이 나옵니다. 이때 [residual, x] 에서 residual은 두단계 위의 x 이고, x는 layer를 지나쳐서 나온 F(x)를 의미합니다.  \n",
        "\n",
        "        return x\n",
        "    \n",
        "def make_basic_block_layer(filter_num, blocks, stride=1): #위에서 만든 basic block를 하나로 묶어줍니다. \n",
        "    res_block = tf.keras.Sequential()\n",
        "    res_block.add(BasicBlock(filter_num, stride=stride))\n",
        "\n",
        "    for _ in range(1, blocks): #아래의 코드를 통해 위에서 정의한 BasicBlock을 쌓습니다. 사실 resnet18에서는 항상 (2개의 layer로 묶인) 하나의 블럭만 쌓기 때문에 필요없지만, 이를 이용해 다른 수의 block을 쌓는 다른 resnet도 쉽게 구현할 수 있습니다. \n",
        "        res_block.add(BasicBlock(filter_num, stride=1))\n",
        "\n",
        "    return res_block\n",
        "\n",
        "#아래에서 block을 쌓을때 stride에 주는 값은 제공한 실습자료 또는 논문에 나와있는 architecture를 확인하셔서 비교하셔야 이해가 가능합니다. \n",
        "class ResNet18(Model):\n",
        "    def __init__(self):\n",
        "        super(ResNet18, self).__init__()\n",
        "        self.conv1 = layers.Conv2D(64, kernel_size=(7, 7), strides=2, padding=\"same\",\n",
        "                                   kernel_initializer = tf.keras.initializers.he_normal())\n",
        "        self.bn1 = layers.BatchNormalization()\n",
        "        self.ac1 = layers.Activation(tf.nn.relu)\n",
        "        self.pool1 = layers.MaxPool2D((3, 3), strides=2, padding=\"same\")\n",
        "        self.layer1 = make_basic_block_layer(filter_num=64, blocks=2) #이곳에서 위에서 만든 block이 하나 쌓입니다. 논문을 보시면 이 과정에서는 Input과 output의 크기가 같습니다.\n",
        "        self.layer2 = make_basic_block_layer(filter_num=128, blocks=2, stride=2) # stride=2로 했기 때문에 위에서 if strid != 1 문이 실행됩니다. 즉 x의 차원을 줄여주어 맞추는 역할을 합니다. \n",
        "        self.layer3 = make_basic_block_layer(filter_num=256, blocks=2, stride=2) #위와 같음\n",
        "        self.layer4 = make_basic_block_layer(filter_num=512, blocks=2, stride=2) #위와 같음 \n",
        "        self.avgpool = layers.GlobalAveragePooling2D()\n",
        "        self.out = layers.Dense(num_classes)\n",
        "\n",
        "    def call(self, x, is_training= False):\n",
        "        x = self.conv1(x)\n",
        "        x = self.bn1(x, training=is_training)\n",
        "        x = self.ac1(x)\n",
        "        x = self.pool1(x)\n",
        "        x = self.layer1(x, training=is_training)\n",
        "        x = self.layer2(x, training=is_training)\n",
        "        x = self.layer3(x, training=is_training)\n",
        "        x = self.layer4(x, training=is_training)\n",
        "        x = self.avgpool(x)\n",
        "        x = self.out(x)\n",
        "        if not is_training:\n",
        "            x = tf.nn.softmax(x)\n",
        "\n",
        "        return x"
      ],
      "execution_count": 3,
      "outputs": []
    },
    {
      "cell_type": "code",
      "metadata": {
        "id": "uYTKFOBbFxQY"
      },
      "source": [
        "# resnet18 = ResNet18()\n",
        "\n",
        "# optimizer = tf.optimizers.SGD(0.0001, momentum=0.9)\n",
        "# print(\"Train ResNet\")\n",
        "# resnet18 = Train_model(resnet18, optimizer, 5)"
      ],
      "execution_count": 4,
      "outputs": []
    },
    {
      "cell_type": "code",
      "metadata": {
        "id": "T1uG3gLP4ccr"
      },
      "source": [
        "resnet18 = ResNet18()\n",
        "\n",
        "resnet18.compile(loss = 'sparse_categorical_crossentropy', optimizer = tf.keras.optimizers.Adam(), metrics = ['accuracy'])\n",
        "es = tf.keras.callbacks.EarlyStopping(monitor='val_loss', mode='min', verbose=1, patience=4) \n",
        "\n"
      ],
      "execution_count": 5,
      "outputs": []
    },
    {
      "cell_type": "code",
      "metadata": {
        "colab": {
          "base_uri": "https://localhost:8080/"
        },
        "id": "rCf9kbAPMgx9",
        "outputId": "6bc45feb-39b1-49e5-a5c2-1f5fd9170e25"
      },
      "source": [
        "resnet18.fit(x_train, y_train,\n",
        "             epochs = 1,\n",
        "             batch_size = 200,\n",
        "             callbacks = es,\n",
        "             validation_data = (x_valid, y_valid)\n",
        "            )"
      ],
      "execution_count": 6,
      "outputs": [
        {
          "output_type": "stream",
          "text": [
            "250/250 [==============================] - 57s 100ms/step - loss: 0.4027 - accuracy: 0.8715 - val_loss: 0.0964 - val_accuracy: 0.9688\n"
          ],
          "name": "stdout"
        },
        {
          "output_type": "execute_result",
          "data": {
            "text/plain": [
              "<tensorflow.python.keras.callbacks.History at 0x7fa71006cb50>"
            ]
          },
          "metadata": {
            "tags": []
          },
          "execution_count": 6
        }
      ]
    },
    {
      "cell_type": "code",
      "metadata": {
        "colab": {
          "base_uri": "https://localhost:8080/"
        },
        "id": "n3N-5vwPNtuH",
        "outputId": "0839f46d-98d1-4fda-abbc-e9194639c67f"
      },
      "source": [
        "resnet18.evaluate(x_test, y_test)"
      ],
      "execution_count": 7,
      "outputs": [
        {
          "output_type": "stream",
          "text": [
            "313/313 [==============================] - 6s 15ms/step - loss: 0.0830 - accuracy: 0.9741\n"
          ],
          "name": "stdout"
        },
        {
          "output_type": "execute_result",
          "data": {
            "text/plain": [
              "[0.08303102105855942, 0.9740999937057495]"
            ]
          },
          "metadata": {
            "tags": []
          },
          "execution_count": 7
        }
      ]
    },
    {
      "cell_type": "code",
      "metadata": {
        "id": "Q1rGRN0D8Dyg"
      },
      "source": [
        ""
      ],
      "execution_count": 7,
      "outputs": []
    }
  ]
}