{
 "cells": [
  {
   "cell_type": "markdown",
   "metadata": {},
   "source": [
    "<br><br>\n",
    "<font size = \"6\">\n",
    "<b>Assignment</b>\n",
    "</font>\n",
    "\n",
    "\n",
    "<br>\n",
    "<div class=pull-right>\n",
    "By Prof. Seungchul Lee<br>\n",
    "http://iai.postech.ac.kr/<br>\n",
    "Industrial AI Lab at POSTECH\n",
    "</div>"
   ]
  },
  {
   "cell_type": "markdown",
   "metadata": {},
   "source": [
    "# Open Data Set\n",
    "\n",
    "- We will use open dataset to apply what we have learned.\n",
    "\n",
    "\n",
    "- The open dataset which we will use for regression is 'Weather in Szeged 2006 - 2016' from kaggle.\n",
    " - Is there a relationship between humidity and temperature? \n",
    " - What about between humidity and apparent temperature? \n",
    "\n",
    "- You can download the dataset from below url but already included in 'data_files/weatherHistory.csv'.\n",
    "\n",
    " - https://www.kaggle.com/budincsevity/szeged-weather/version/1#weatherHistory.csv\n",
    "\n",
    "\n"
   ]
  },
  {
   "cell_type": "markdown",
   "metadata": {},
   "source": [
    "## 1. Data load (5pt)\n",
    "**Read the file 'weatherHistory.csv' and show top 5 rows using the pandas module**"
   ]
  },
  {
   "cell_type": "code",
   "execution_count": null,
   "metadata": {},
   "outputs": [],
   "source": []
  },
  {
   "cell_type": "markdown",
   "metadata": {},
   "source": [
    "## 2. Data Drop (5pt)\n",
    "**Delete 5 columns**\n",
    "- 'Formatted Date', 'Summary', 'Precip Type', 'Loud Cover', 'Daily Summary'"
   ]
  },
  {
   "cell_type": "code",
   "execution_count": null,
   "metadata": {},
   "outputs": [],
   "source": []
  },
  {
   "cell_type": "markdown",
   "metadata": {},
   "source": [
    "## 3. Data Plotting (5pt)\n",
    "**Visualize column 'Apparent Temperature (C)' using matplotlib module**"
   ]
  },
  {
   "cell_type": "code",
   "execution_count": null,
   "metadata": {},
   "outputs": [],
   "source": []
  },
  {
   "cell_type": "markdown",
   "metadata": {},
   "source": [
    "## 4. Data Sorting (5pt)\n",
    "**Sort in ascending order by the column 'Apparent Temperature (C)'**"
   ]
  },
  {
   "cell_type": "code",
   "execution_count": null,
   "metadata": {},
   "outputs": [],
   "source": []
  },
  {
   "cell_type": "markdown",
   "metadata": {
    "ExecuteTime": {
     "end_time": "2020-01-13T07:44:10.135219Z",
     "start_time": "2020-01-13T07:44:10.130221Z"
    }
   },
   "source": [
    "## 5. Feature Selection (5 pt)\n",
    "**split train and target columns**\n",
    "- target column: Apparent Temperature\n",
    "- train columns: else"
   ]
  },
  {
   "cell_type": "code",
   "execution_count": null,
   "metadata": {},
   "outputs": [],
   "source": []
  },
  {
   "cell_type": "markdown",
   "metadata": {},
   "source": [
    "# Predict Apparent Temperature"
   ]
  },
  {
   "cell_type": "markdown",
   "metadata": {},
   "source": [
    "## 6. Least Square Solution\n",
    "**a) Predict $\\hat{y}$ using least square solution (20 pt)**"
   ]
  },
  {
   "cell_type": "code",
   "execution_count": null,
   "metadata": {},
   "outputs": [],
   "source": []
  },
  {
   "cell_type": "markdown",
   "metadata": {},
   "source": [
    "**b) Plotting real value $y$ and predict value $\\hat{y}$ (5 pt)**"
   ]
  },
  {
   "cell_type": "code",
   "execution_count": null,
   "metadata": {},
   "outputs": [],
   "source": []
  },
  {
   "cell_type": "markdown",
   "metadata": {},
   "source": [
    "## 7. Gradient Descent\n",
    "**a) Predict $\\hat{y}$ using gradient descent method (20 pt)**"
   ]
  },
  {
   "cell_type": "code",
   "execution_count": null,
   "metadata": {},
   "outputs": [],
   "source": []
  },
  {
   "cell_type": "markdown",
   "metadata": {},
   "source": [
    "**b) Plotting real value $y$ and predict value $\\hat{y}$ (5 pt)**"
   ]
  },
  {
   "cell_type": "code",
   "execution_count": null,
   "metadata": {},
   "outputs": [],
   "source": []
  },
  {
   "cell_type": "markdown",
   "metadata": {},
   "source": [
    "## 8. Sklearn Module\n",
    "**a) Predict $\\hat{y}$ using LinearRegression module with Sklearn (20 pt)**"
   ]
  },
  {
   "cell_type": "code",
   "execution_count": null,
   "metadata": {},
   "outputs": [],
   "source": []
  },
  {
   "cell_type": "markdown",
   "metadata": {},
   "source": [
    "**b) Plotting real value $y$ and predict value $\\hat{y}$ (5 pt)**"
   ]
  },
  {
   "cell_type": "code",
   "execution_count": null,
   "metadata": {},
   "outputs": [],
   "source": []
  }
 ],
 "metadata": {
  "kernelspec": {
   "display_name": "Python 3",
   "language": "python",
   "name": "python3"
  },
  "language_info": {
   "codemirror_mode": {
    "name": "ipython",
    "version": 3
   },
   "file_extension": ".py",
   "mimetype": "text/x-python",
   "name": "python",
   "nbconvert_exporter": "python",
   "pygments_lexer": "ipython3",
   "version": "3.8.8"
  },
  "toc": {
   "base_numbering": 1,
   "nav_menu": {},
   "number_sections": false,
   "sideBar": true,
   "skip_h1_title": false,
   "title_cell": "Table of Contents",
   "title_sidebar": "Contents",
   "toc_cell": true,
   "toc_position": {
    "height": "595.2px",
    "left": "46px",
    "top": "334.8px",
    "width": "221.378px"
   },
   "toc_section_display": true,
   "toc_window_display": true
  },
  "varInspector": {
   "cols": {
    "lenName": 16,
    "lenType": 16,
    "lenVar": 40
   },
   "kernels_config": {
    "python": {
     "delete_cmd_postfix": "",
     "delete_cmd_prefix": "del ",
     "library": "var_list.py",
     "varRefreshCmd": "print(var_dic_list())"
    },
    "r": {
     "delete_cmd_postfix": ") ",
     "delete_cmd_prefix": "rm(",
     "library": "var_list.r",
     "varRefreshCmd": "cat(var_dic_list()) "
    }
   },
   "types_to_exclude": [
    "module",
    "function",
    "builtin_function_or_method",
    "instance",
    "_Feature"
   ],
   "window_display": false
  }
 },
 "nbformat": 4,
 "nbformat_minor": 2
}
