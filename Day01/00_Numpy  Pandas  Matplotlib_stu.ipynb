{
 "cells": [
  {
   "cell_type": "markdown",
   "id": "1085431f",
   "metadata": {},
   "source": [
    "<br><br>\n",
    "<font size='6'><b>Numpy & Pandas & Matplotlib </b></font><br><br>\n",
    "\n",
    "<br>\n",
    "<div class=pull-right>\n",
    "By Prof. Seungchul Lee<br>\n",
    "http://iai.postech.ac.kr/<br>\n",
    "Industrial AI Lab at POSTECH\n",
    "</div>"
   ]
  },
  {
   "cell_type": "markdown",
   "id": "33c56a5b",
   "metadata": {
    "toc": true
   },
   "source": [
    "<h1>Table of Contents<span class=\"tocSkip\"></span></h1>\n",
    "<div class=\"toc\"><ul class=\"toc-item\"><li><span><a href=\"#1.-Numpy\" data-toc-modified-id=\"1.-Numpy-1\">1. Numpy</a></span><ul class=\"toc-item\"><li><span><a href=\"#1.1.-Create-Arrays\" data-toc-modified-id=\"1.1.-Create-Arrays-1.1\">1.1. Create Arrays</a></span></li><li><span><a href=\"#1.2.-Indexing\" data-toc-modified-id=\"1.2.-Indexing-1.2\">1.2. Indexing</a></span></li><li><span><a href=\"#1.3.-Operation\" data-toc-modified-id=\"1.3.-Operation-1.3\">1.3. Operation</a></span></li><li><span><a href=\"#1.4.-Broadcasting\" data-toc-modified-id=\"1.4.-Broadcasting-1.4\">1.4. Broadcasting</a></span></li><li><span><a href=\"#1.5.-Matirx\" data-toc-modified-id=\"1.5.-Matirx-1.5\">1.5. Matirx</a></span></li><li><span><a href=\"#1.6.-Copy\" data-toc-modified-id=\"1.6.-Copy-1.6\">1.6. Copy</a></span></li><li><span><a href=\"#1.7.-Practice\" data-toc-modified-id=\"1.7.-Practice-1.7\">1.7. Practice</a></span><ul class=\"toc-item\"><li><span><a href=\"#ex-1\" data-toc-modified-id=\"ex-1-1.7.1\">ex 1</a></span></li><li><span><a href=\"#ex-2\" data-toc-modified-id=\"ex-2-1.7.2\">ex 2</a></span></li></ul></li></ul></li><li><span><a href=\"#2.-Pandas\" data-toc-modified-id=\"2.-Pandas-2\">2. Pandas</a></span><ul class=\"toc-item\"><li><span><a href=\"#2.1.-Create-Dataframe\" data-toc-modified-id=\"2.1.-Create-Dataframe-2.1\">2.1. Create Dataframe</a></span></li><li><span><a href=\"#2.2.-Save-&amp;-Read\" data-toc-modified-id=\"2.2.-Save-&amp;-Read-2.2\">2.2. Save &amp; Read</a></span></li><li><span><a href=\"#2.3.-Data-Analysis\" data-toc-modified-id=\"2.3.-Data-Analysis-2.3\">2.3. Data Analysis</a></span></li><li><span><a href=\"#2.4.-Practice\" data-toc-modified-id=\"2.4.-Practice-2.4\">2.4. Practice</a></span></li></ul></li><li><span><a href=\"#3.-Matplotlib\" data-toc-modified-id=\"3.-Matplotlib-3\">3. Matplotlib</a></span><ul class=\"toc-item\"><li><span><a href=\"#3.1.-Practice\" data-toc-modified-id=\"3.1.-Practice-3.1\">3.1. Practice</a></span></li></ul></li></ul></div>"
   ]
  },
  {
   "cell_type": "markdown",
   "id": "81a3e9d3",
   "metadata": {},
   "source": [
    "- 모듈, 또는 패키지란 함수나 변수 또는 클래스들을 모아 놓은 파일을 말한다. 즉, 다른 Python 프로그램에서 불러와 사용할 수 있게끔 만들어진 Python 파일이라고도 할 수 있다.\n",
    "\n",
    "\n",
    "- Python에는 굉장히 유용한 여러 패키지가 있는데 그중 많이 쓰이는 `numpy`, `matplotlib`, 그리고 `pandas`에 대해 간략히 소개하겠다."
   ]
  },
  {
   "cell_type": "markdown",
   "id": "1c524e6e",
   "metadata": {},
   "source": [
    "모듈을 코드 내에 추가하는 방법은 다음과 같다."
   ]
  },
  {
   "cell_type": "markdown",
   "id": "dde0e0a3",
   "metadata": {},
   "source": [
    "```python\n",
    "import 모듈명\n",
    "import 모듈명 as 임의의 축약 이름\n",
    "from 모듈명 import 모듈 내 변수, 함수 혹은 클래스\n",
    "```"
   ]
  },
  {
   "cell_type": "markdown",
   "id": "add9f5e5",
   "metadata": {},
   "source": [
    "각각 의미하는 바는,<br>\n",
    "1) 모듈을 전부 코드 내에 추가한다.<br>\n",
    "2) 모듈을 전부 코드 내에 추가하고 모듈명을 임의의 축약 이름으로 바꿔 사용한다.<br>\n",
    "3) 모듈 내에 있는 __특정 변수, 함수 혹은 클래스만__ 추가한다.<br>"
   ]
  },
  {
   "cell_type": "markdown",
   "id": "6405c2c3",
   "metadata": {},
   "source": [
    "# 1. Numpy"
   ]
  },
  {
   "cell_type": "markdown",
   "id": "88a8a448",
   "metadata": {},
   "source": [
    "- `numpy`는 거의 모든 Python 프로그램에서 사용되는 패키지이다.\n",
    "- `array`라는 데이터 타입을 이용해서 matrix나 tensor를 표현하기도 하고, 수학적 계산에서 기초가 되는 여러 함수를 제공한다.\n",
    "- `array`를 활용하여 Python에서 제공하는 기본 list 기반 연산보다 효율적으로 수학적 계산을 수행한다."
   ]
  },
  {
   "cell_type": "code",
   "execution_count": 2,
   "id": "798621be",
   "metadata": {
    "ExecuteTime": {
     "end_time": "2021-07-25T22:15:22.794175Z",
     "start_time": "2021-07-25T22:15:22.312463Z"
    }
   },
   "outputs": [],
   "source": [
    "import numpy as np"
   ]
  },
  {
   "cell_type": "markdown",
   "id": "3a2de695",
   "metadata": {},
   "source": [
    "## 1.1. Create Arrays"
   ]
  },
  {
   "cell_type": "markdown",
   "id": "84fccb6f",
   "metadata": {},
   "source": [
    "- **1D Array**"
   ]
  },
  {
   "cell_type": "code",
   "execution_count": 3,
   "id": "12991fe0",
   "metadata": {
    "ExecuteTime": {
     "end_time": "2021-07-25T22:15:22.809135Z",
     "start_time": "2021-07-25T22:15:22.795172Z"
    }
   },
   "outputs": [
    {
     "name": "stdout",
     "output_type": "stream",
     "text": [
      "<class 'numpy.ndarray'>\n",
      "(3,)\n",
      "[1 2 3]\n"
     ]
    }
   ],
   "source": [
    "a = np.array([1,2,3])\n",
    "print(type(a))\n",
    "print(a.shape)\n",
    "print(a)"
   ]
  },
  {
   "cell_type": "markdown",
   "id": "597aa1a5",
   "metadata": {},
   "source": [
    "- **2D Array**"
   ]
  },
  {
   "cell_type": "code",
   "execution_count": 6,
   "id": "cb5917cc",
   "metadata": {
    "ExecuteTime": {
     "end_time": "2021-07-25T22:15:22.825092Z",
     "start_time": "2021-07-25T22:15:22.810132Z"
    }
   },
   "outputs": [
    {
     "name": "stdout",
     "output_type": "stream",
     "text": [
      "<class 'numpy.ndarray'>\n",
      "[[1 2 3]\n",
      " [4 5 6]]\n"
     ]
    }
   ],
   "source": [
    "b = np.array([[1,2,3], [4,5,6]])\n",
    "print(type(b))\n",
    "print(b)"
   ]
  },
  {
   "cell_type": "markdown",
   "id": "db7cb796",
   "metadata": {},
   "source": [
    "- **3D Array**"
   ]
  },
  {
   "cell_type": "code",
   "execution_count": 7,
   "id": "01b94a0a",
   "metadata": {
    "ExecuteTime": {
     "end_time": "2021-07-25T22:15:22.841050Z",
     "start_time": "2021-07-25T22:15:22.826090Z"
    }
   },
   "outputs": [
    {
     "ename": "TypeError",
     "evalue": "Field elements must be 2- or 3-tuples, got '[7, 8, 9]'",
     "output_type": "error",
     "traceback": [
      "\u001b[1;31m---------------------------------------------------------------------------\u001b[0m",
      "\u001b[1;31mTypeError\u001b[0m                                 Traceback (most recent call last)",
      "\u001b[1;32m<ipython-input-7-82fee7e0603c>\u001b[0m in \u001b[0;36m<module>\u001b[1;34m\u001b[0m\n\u001b[1;32m----> 1\u001b[1;33m \u001b[0mc\u001b[0m \u001b[1;33m=\u001b[0m \u001b[0mnp\u001b[0m\u001b[1;33m.\u001b[0m\u001b[0marray\u001b[0m\u001b[1;33m(\u001b[0m\u001b[1;33m[\u001b[0m\u001b[1;33m[\u001b[0m\u001b[1;36m1\u001b[0m\u001b[1;33m,\u001b[0m\u001b[1;36m2\u001b[0m\u001b[1;33m,\u001b[0m\u001b[1;36m3\u001b[0m\u001b[1;33m]\u001b[0m\u001b[1;33m,\u001b[0m \u001b[1;33m[\u001b[0m\u001b[1;36m4\u001b[0m\u001b[1;33m,\u001b[0m\u001b[1;36m5\u001b[0m\u001b[1;33m,\u001b[0m\u001b[1;36m6\u001b[0m\u001b[1;33m]\u001b[0m\u001b[1;33m]\u001b[0m\u001b[1;33m,\u001b[0m \u001b[1;33m[\u001b[0m\u001b[1;33m[\u001b[0m\u001b[1;36m7\u001b[0m\u001b[1;33m,\u001b[0m\u001b[1;36m8\u001b[0m\u001b[1;33m,\u001b[0m\u001b[1;36m9\u001b[0m\u001b[1;33m]\u001b[0m\u001b[1;33m,\u001b[0m \u001b[1;33m[\u001b[0m\u001b[1;36m10\u001b[0m\u001b[1;33m,\u001b[0m\u001b[1;36m11\u001b[0m\u001b[1;33m,\u001b[0m\u001b[1;36m12\u001b[0m\u001b[1;33m]\u001b[0m\u001b[1;33m]\u001b[0m\u001b[1;33m)\u001b[0m\u001b[1;33m\u001b[0m\u001b[1;33m\u001b[0m\u001b[0m\n\u001b[0m\u001b[0;32m      2\u001b[0m \u001b[0mprint\u001b[0m\u001b[1;33m(\u001b[0m\u001b[0mc\u001b[0m\u001b[1;33m)\u001b[0m\u001b[1;33m\u001b[0m\u001b[1;33m\u001b[0m\u001b[0m\n",
      "\u001b[1;31mTypeError\u001b[0m: Field elements must be 2- or 3-tuples, got '[7, 8, 9]'"
     ]
    }
   ],
   "source": []
  },
  {
   "cell_type": "code",
   "execution_count": 9,
   "id": "5d1814b9",
   "metadata": {},
   "outputs": [
    {
     "name": "stdout",
     "output_type": "stream",
     "text": [
      "[[0. 0.]\n",
      " [0. 0.]]\n"
     ]
    }
   ],
   "source": [
    "a = np.zeros((2, 2))\n",
    "print(a)"
   ]
  },
  {
   "cell_type": "code",
   "execution_count": null,
   "id": "e96866f3",
   "metadata": {},
   "outputs": [],
   "source": []
  },
  {
   "cell_type": "markdown",
   "id": "1c815a5f",
   "metadata": {},
   "source": [
    "- **내장 함수**"
   ]
  },
  {
   "cell_type": "code",
   "execution_count": 5,
   "id": "4eba3870",
   "metadata": {
    "ExecuteTime": {
     "end_time": "2021-07-25T22:15:22.857007Z",
     "start_time": "2021-07-25T22:15:22.842047Z"
    }
   },
   "outputs": [
    {
     "data": {
      "text/plain": [
       "array([[0., 0.],\n",
       "       [0., 0.]])"
      ]
     },
     "execution_count": 5,
     "metadata": {},
     "output_type": "execute_result"
    }
   ],
   "source": []
  },
  {
   "cell_type": "code",
   "execution_count": 6,
   "id": "d0975df0",
   "metadata": {
    "ExecuteTime": {
     "end_time": "2021-07-25T22:15:22.872965Z",
     "start_time": "2021-07-25T22:15:22.858005Z"
    }
   },
   "outputs": [
    {
     "data": {
      "text/plain": [
       "array([[1., 1., 1.],\n",
       "       [1., 1., 1.]])"
      ]
     },
     "execution_count": 6,
     "metadata": {},
     "output_type": "execute_result"
    }
   ],
   "source": [
    "a = np.ones((2,3))\n",
    "print(a)"
   ]
  },
  {
   "cell_type": "code",
   "execution_count": 14,
   "id": "66b6e1a2",
   "metadata": {
    "ExecuteTime": {
     "end_time": "2021-07-25T22:15:22.888922Z",
     "start_time": "2021-07-25T22:15:22.873962Z"
    }
   },
   "outputs": [
    {
     "name": "stdout",
     "output_type": "stream",
     "text": [
      "[[7 7]\n",
      " [7 7]\n",
      " [7 7]]\n"
     ]
    }
   ],
   "source": [
    "a = np.full((3,2), 7)\n",
    "print(a)"
   ]
  },
  {
   "cell_type": "code",
   "execution_count": 8,
   "id": "e3d23364",
   "metadata": {
    "ExecuteTime": {
     "end_time": "2021-07-25T22:15:22.905006Z",
     "start_time": "2021-07-25T22:15:22.890917Z"
    }
   },
   "outputs": [
    {
     "data": {
      "text/plain": [
       "array([[1., 0.],\n",
       "       [0., 1.]])"
      ]
     },
     "execution_count": 8,
     "metadata": {},
     "output_type": "execute_result"
    }
   ],
   "source": []
  },
  {
   "cell_type": "code",
   "execution_count": 15,
   "id": "04c87b9f",
   "metadata": {
    "ExecuteTime": {
     "end_time": "2021-07-25T22:15:22.920935Z",
     "start_time": "2021-07-25T22:15:22.906972Z"
    }
   },
   "outputs": [
    {
     "name": "stdout",
     "output_type": "stream",
     "text": [
      "[[0.8493307  0.73940598 0.71522637]\n",
      " [0.38376279 0.33734271 0.15140526]\n",
      " [0.90346617 0.86223503 0.08170518]]\n"
     ]
    }
   ],
   "source": [
    "a = np.random.random((3,3))\n",
    "print(a)"
   ]
  },
  {
   "cell_type": "markdown",
   "id": "46da4dea",
   "metadata": {},
   "source": [
    "## 1.2. Indexing"
   ]
  },
  {
   "cell_type": "markdown",
   "id": "46e4b3b8",
   "metadata": {},
   "source": [
    "- 원하는 성분만 추출할 수 있다.\n",
    "- Numpy array의 경우 다차원인 경우가 많기에, 각 차원별로 어떻게 슬라이스할건지 명확히 해야한다."
   ]
  },
  {
   "cell_type": "markdown",
   "id": "254c04cb",
   "metadata": {},
   "source": [
    "- **슬라이싱**"
   ]
  },
  {
   "cell_type": "code",
   "execution_count": 16,
   "id": "2b57edd3",
   "metadata": {
    "ExecuteTime": {
     "end_time": "2021-07-25T22:15:22.936920Z",
     "start_time": "2021-07-25T22:15:22.921933Z"
    }
   },
   "outputs": [
    {
     "name": "stdout",
     "output_type": "stream",
     "text": [
      "[[ 1  2  3  4]\n",
      " [ 5  6  7  8]\n",
      " [ 9 10 11 12]]\n"
     ]
    }
   ],
   "source": [
    "a = np.array([[1,2,3,4], [5,6,7,8], [9,10,11,12]])\n",
    "print(a)"
   ]
  },
  {
   "cell_type": "code",
   "execution_count": 11,
   "id": "64263ec1",
   "metadata": {
    "ExecuteTime": {
     "end_time": "2021-07-25T22:15:22.951879Z",
     "start_time": "2021-07-25T22:15:22.937890Z"
    }
   },
   "outputs": [
    {
     "data": {
      "text/plain": [
       "array([[2, 3],\n",
       "       [6, 7]])"
      ]
     },
     "execution_count": 11,
     "metadata": {},
     "output_type": "execute_result"
    }
   ],
   "source": [
    "b = a[:2, 1:3]\n",
    "print(b)"
   ]
  },
  {
   "cell_type": "code",
   "execution_count": 19,
   "id": "3f570de3",
   "metadata": {
    "ExecuteTime": {
     "end_time": "2021-07-25T22:15:22.967837Z",
     "start_time": "2021-07-25T22:15:22.952849Z"
    }
   },
   "outputs": [
    {
     "name": "stdout",
     "output_type": "stream",
     "text": [
      "(4,)\n"
     ]
    }
   ],
   "source": [
    "c = a[1,:]\n",
    "print(c.shape)"
   ]
  },
  {
   "cell_type": "code",
   "execution_count": 21,
   "id": "803758d9",
   "metadata": {
    "ExecuteTime": {
     "end_time": "2021-07-25T22:15:22.983794Z",
     "start_time": "2021-07-25T22:15:22.968807Z"
    }
   },
   "outputs": [
    {
     "name": "stdout",
     "output_type": "stream",
     "text": [
      "(1, 4)\n"
     ]
    }
   ],
   "source": [
    "d = a[1:2, :]\n",
    "print(d.shape)"
   ]
  },
  {
   "cell_type": "markdown",
   "id": "3450616a",
   "metadata": {},
   "source": [
    "## 1.3. Operation"
   ]
  },
  {
   "cell_type": "code",
   "execution_count": 32,
   "id": "e200157a",
   "metadata": {
    "ExecuteTime": {
     "end_time": "2021-07-25T22:15:22.999756Z",
     "start_time": "2021-07-25T22:15:22.984764Z"
    }
   },
   "outputs": [],
   "source": [
    "x = np.array([[1,2], [3,4]])\n",
    "y = np.array([[5,6], [7,8]])"
   ]
  },
  {
   "cell_type": "markdown",
   "id": "2cf028dc",
   "metadata": {},
   "source": [
    "- **Basic**"
   ]
  },
  {
   "cell_type": "code",
   "execution_count": 33,
   "id": "1c8b3ff6",
   "metadata": {
    "ExecuteTime": {
     "end_time": "2021-07-25T22:15:23.015682Z",
     "start_time": "2021-07-25T22:15:23.000722Z"
    }
   },
   "outputs": [
    {
     "data": {
      "text/plain": [
       "array([[ 6,  8],\n",
       "       [10, 12]])"
      ]
     },
     "execution_count": 33,
     "metadata": {},
     "output_type": "execute_result"
    }
   ],
   "source": [
    "np.add(x, y)"
   ]
  },
  {
   "cell_type": "code",
   "execution_count": 34,
   "id": "80e7d886",
   "metadata": {
    "ExecuteTime": {
     "end_time": "2021-07-25T22:15:23.030665Z",
     "start_time": "2021-07-25T22:15:23.016679Z"
    }
   },
   "outputs": [
    {
     "ename": "SyntaxError",
     "evalue": "cannot assign to operator (<ipython-input-34-3be58f5b11bc>, line 1)",
     "output_type": "error",
     "traceback": [
      "\u001b[1;36m  File \u001b[1;32m\"<ipython-input-34-3be58f5b11bc>\"\u001b[1;36m, line \u001b[1;32m1\u001b[0m\n\u001b[1;33m    x - y = np.subtract(x, y)\u001b[0m\n\u001b[1;37m    ^\u001b[0m\n\u001b[1;31mSyntaxError\u001b[0m\u001b[1;31m:\u001b[0m cannot assign to operator\n"
     ]
    }
   ],
   "source": [
    "x - y = np.subtract(x, y)"
   ]
  },
  {
   "cell_type": "code",
   "execution_count": 17,
   "id": "e038d89a",
   "metadata": {
    "ExecuteTime": {
     "end_time": "2021-07-25T22:15:23.045630Z",
     "start_time": "2021-07-25T22:15:23.031639Z"
    },
    "scrolled": true
   },
   "outputs": [
    {
     "data": {
      "text/plain": [
       "array([[ True,  True],\n",
       "       [ True,  True]])"
      ]
     },
     "execution_count": 17,
     "metadata": {},
     "output_type": "execute_result"
    }
   ],
   "source": []
  },
  {
   "cell_type": "code",
   "execution_count": 18,
   "id": "568b5033",
   "metadata": {
    "ExecuteTime": {
     "end_time": "2021-07-25T22:15:23.060568Z",
     "start_time": "2021-07-25T22:15:23.046599Z"
    }
   },
   "outputs": [
    {
     "data": {
      "text/plain": [
       "array([[ True,  True],\n",
       "       [ True,  True]])"
      ]
     },
     "execution_count": 18,
     "metadata": {},
     "output_type": "execute_result"
    }
   ],
   "source": []
  },
  {
   "cell_type": "code",
   "execution_count": 19,
   "id": "f1154f4d",
   "metadata": {
    "ExecuteTime": {
     "end_time": "2021-07-25T22:15:23.076544Z",
     "start_time": "2021-07-25T22:15:23.061559Z"
    }
   },
   "outputs": [
    {
     "data": {
      "text/plain": [
       "array([[1.        , 1.41421356],\n",
       "       [1.73205081, 2.        ]])"
      ]
     },
     "execution_count": 19,
     "metadata": {},
     "output_type": "execute_result"
    }
   ],
   "source": []
  },
  {
   "cell_type": "markdown",
   "id": "4405eef4",
   "metadata": {},
   "source": [
    "- **Sum**"
   ]
  },
  {
   "cell_type": "code",
   "execution_count": 20,
   "id": "f68714c9",
   "metadata": {
    "ExecuteTime": {
     "end_time": "2021-07-25T22:15:23.092504Z",
     "start_time": "2021-07-25T22:15:23.078513Z"
    }
   },
   "outputs": [
    {
     "name": "stdout",
     "output_type": "stream",
     "text": [
      "[[1 2]\n",
      " [3 4]]\n"
     ]
    }
   ],
   "source": []
  },
  {
   "cell_type": "code",
   "execution_count": 35,
   "id": "75d530a9",
   "metadata": {
    "ExecuteTime": {
     "end_time": "2021-07-25T22:15:23.108365Z",
     "start_time": "2021-07-25T22:15:23.093474Z"
    }
   },
   "outputs": [
    {
     "data": {
      "text/plain": [
       "10"
      ]
     },
     "execution_count": 35,
     "metadata": {},
     "output_type": "execute_result"
    }
   ],
   "source": [
    "np.sum(x)"
   ]
  },
  {
   "cell_type": "code",
   "execution_count": 36,
   "id": "3a788af9",
   "metadata": {
    "ExecuteTime": {
     "end_time": "2021-07-25T22:15:23.124323Z",
     "start_time": "2021-07-25T22:15:23.109363Z"
    }
   },
   "outputs": [
    {
     "data": {
      "text/plain": [
       "array([4, 6])"
      ]
     },
     "execution_count": 36,
     "metadata": {},
     "output_type": "execute_result"
    }
   ],
   "source": [
    "np.sum(x, axis = 0)"
   ]
  },
  {
   "cell_type": "code",
   "execution_count": 37,
   "id": "bb0de9e4",
   "metadata": {
    "ExecuteTime": {
     "end_time": "2021-07-25T22:15:23.140281Z",
     "start_time": "2021-07-25T22:15:23.127315Z"
    }
   },
   "outputs": [
    {
     "data": {
      "text/plain": [
       "array([3, 7])"
      ]
     },
     "execution_count": 37,
     "metadata": {},
     "output_type": "execute_result"
    }
   ],
   "source": [
    "np.sum(x, axis = 1)"
   ]
  },
  {
   "cell_type": "markdown",
   "id": "bd987bc8",
   "metadata": {},
   "source": [
    "- **statistics**"
   ]
  },
  {
   "cell_type": "code",
   "execution_count": 38,
   "id": "fc145c5a",
   "metadata": {
    "ExecuteTime": {
     "end_time": "2021-07-25T22:15:23.156238Z",
     "start_time": "2021-07-25T22:15:23.144270Z"
    }
   },
   "outputs": [
    {
     "name": "stdout",
     "output_type": "stream",
     "text": [
      "[[0.55289826 0.22300836 0.5070399  0.47043888 0.40287349]\n",
      " [0.74615212 0.9375272  0.60913081 0.56577659 0.43567684]\n",
      " [0.18858698 0.55055091 0.60852232 0.24668655 0.41264089]\n",
      " [0.67684905 0.8389977  0.17700384 0.88556087 0.11451128]\n",
      " [0.38026035 0.22201703 0.06313598 0.20855192 0.39315743]]\n"
     ]
    }
   ],
   "source": [
    "x = np.random.random((5,5))\n",
    "print(x)"
   ]
  },
  {
   "cell_type": "code",
   "execution_count": 39,
   "id": "1eb972e1",
   "metadata": {
    "ExecuteTime": {
     "end_time": "2021-07-25T22:15:23.172194Z",
     "start_time": "2021-07-25T22:15:23.157235Z"
    }
   },
   "outputs": [
    {
     "data": {
      "text/plain": [
       "0.937527204707002"
      ]
     },
     "execution_count": 39,
     "metadata": {},
     "output_type": "execute_result"
    }
   ],
   "source": [
    "np.max(x)"
   ]
  },
  {
   "cell_type": "code",
   "execution_count": 40,
   "id": "fde3ce67",
   "metadata": {
    "ExecuteTime": {
     "end_time": "2021-07-25T22:15:23.188152Z",
     "start_time": "2021-07-25T22:15:23.173193Z"
    }
   },
   "outputs": [
    {
     "data": {
      "text/plain": [
       "0.0631359788518222"
      ]
     },
     "execution_count": 40,
     "metadata": {},
     "output_type": "execute_result"
    }
   ],
   "source": [
    "np.min(x)"
   ]
  },
  {
   "cell_type": "code",
   "execution_count": 41,
   "id": "21f45c80",
   "metadata": {
    "ExecuteTime": {
     "end_time": "2021-07-25T22:15:23.203111Z",
     "start_time": "2021-07-25T22:15:23.189149Z"
    }
   },
   "outputs": [
    {
     "data": {
      "text/plain": [
       "0.45670222266409405"
      ]
     },
     "execution_count": 41,
     "metadata": {},
     "output_type": "execute_result"
    }
   ],
   "source": [
    "np.mean(x)"
   ]
  },
  {
   "cell_type": "code",
   "execution_count": 42,
   "id": "ead1cf4a",
   "metadata": {
    "ExecuteTime": {
     "end_time": "2021-07-25T22:15:23.219069Z",
     "start_time": "2021-07-25T22:15:23.204110Z"
    }
   },
   "outputs": [
    {
     "data": {
      "text/plain": [
       "0.23875647728485383"
      ]
     },
     "execution_count": 42,
     "metadata": {},
     "output_type": "execute_result"
    }
   ],
   "source": [
    "np.std(x)"
   ]
  },
  {
   "cell_type": "markdown",
   "id": "7f46c5d1",
   "metadata": {},
   "source": [
    "- **Transpose**"
   ]
  },
  {
   "cell_type": "code",
   "execution_count": 45,
   "id": "d381659d",
   "metadata": {
    "ExecuteTime": {
     "end_time": "2021-07-25T22:15:23.235026Z",
     "start_time": "2021-07-25T22:15:23.220067Z"
    }
   },
   "outputs": [
    {
     "name": "stdout",
     "output_type": "stream",
     "text": [
      "[[1 2]\n",
      " [3 4]]\n"
     ]
    }
   ],
   "source": [
    "x = np.array([[1,2], [3,4]])\n",
    "print(x)"
   ]
  },
  {
   "cell_type": "code",
   "execution_count": 46,
   "id": "414df79c",
   "metadata": {
    "ExecuteTime": {
     "end_time": "2021-07-25T22:15:23.250984Z",
     "start_time": "2021-07-25T22:15:23.236025Z"
    },
    "scrolled": true
   },
   "outputs": [
    {
     "data": {
      "text/plain": [
       "array([[1, 3],\n",
       "       [2, 4]])"
      ]
     },
     "execution_count": 46,
     "metadata": {},
     "output_type": "execute_result"
    }
   ],
   "source": [
    "x.T"
   ]
  },
  {
   "cell_type": "markdown",
   "id": "faad76f5",
   "metadata": {},
   "source": [
    "## 1.4. Broadcasting"
   ]
  },
  {
   "cell_type": "markdown",
   "id": "f1c6d497",
   "metadata": {},
   "source": [
    "- Numpy에서 shape가 다른 배열 간에도 산술 연산이 가능하게 하는 메커니즘\n",
    "- 작은 배열과 큰 배열이 있을 때, 큰 배열을 대상으로 작은 배열을 여러 번 연산하고자 할 때 사용"
   ]
  },
  {
   "cell_type": "code",
   "execution_count": 32,
   "id": "32138984",
   "metadata": {
    "ExecuteTime": {
     "end_time": "2021-07-25T22:15:23.282899Z",
     "start_time": "2021-07-25T22:15:23.267939Z"
    }
   },
   "outputs": [],
   "source": [
    "x = np.array([[1,2,3], [4,5,6], [7,8,9], [10,11,12]])\n",
    "y = np.array([1, 0, 1])"
   ]
  },
  {
   "cell_type": "code",
   "execution_count": 47,
   "id": "8a41c009",
   "metadata": {
    "ExecuteTime": {
     "end_time": "2021-07-25T22:15:23.314813Z",
     "start_time": "2021-07-25T22:15:23.299853Z"
    }
   },
   "outputs": [
    {
     "data": {
      "text/plain": [
       "array([[ 6,  8],\n",
       "       [10, 12]])"
      ]
     },
     "execution_count": 47,
     "metadata": {},
     "output_type": "execute_result"
    }
   ],
   "source": [
    "x + y"
   ]
  },
  {
   "cell_type": "markdown",
   "id": "0d95b4d6",
   "metadata": {},
   "source": [
    "- **row**"
   ]
  },
  {
   "cell_type": "code",
   "execution_count": 35,
   "id": "cf9c4de3",
   "metadata": {
    "ExecuteTime": {
     "end_time": "2021-07-25T22:15:23.329800Z",
     "start_time": "2021-07-25T22:15:23.315811Z"
    }
   },
   "outputs": [],
   "source": []
  },
  {
   "cell_type": "code",
   "execution_count": 36,
   "id": "4d49d738",
   "metadata": {
    "ExecuteTime": {
     "end_time": "2021-07-25T22:15:23.345730Z",
     "start_time": "2021-07-25T22:15:23.330771Z"
    }
   },
   "outputs": [
    {
     "data": {
      "text/plain": [
       "array([[ 2,  2,  4],\n",
       "       [ 5,  5,  7],\n",
       "       [ 8,  8, 10],\n",
       "       [11, 11, 13]])"
      ]
     },
     "execution_count": 36,
     "metadata": {},
     "output_type": "execute_result"
    }
   ],
   "source": []
  },
  {
   "cell_type": "markdown",
   "id": "c00a1e11",
   "metadata": {},
   "source": [
    "- **column**"
   ]
  },
  {
   "cell_type": "code",
   "execution_count": 37,
   "id": "d93dba3a",
   "metadata": {
    "ExecuteTime": {
     "end_time": "2021-07-25T22:15:23.361715Z",
     "start_time": "2021-07-25T22:15:23.346728Z"
    }
   },
   "outputs": [],
   "source": []
  },
  {
   "cell_type": "code",
   "execution_count": 38,
   "id": "7d4aa163",
   "metadata": {
    "ExecuteTime": {
     "end_time": "2021-07-25T22:15:23.377673Z",
     "start_time": "2021-07-25T22:15:23.362721Z"
    }
   },
   "outputs": [
    {
     "data": {
      "text/plain": [
       "array([[ 4,  5],\n",
       "       [ 8, 10],\n",
       "       [12, 15]])"
      ]
     },
     "execution_count": 38,
     "metadata": {},
     "output_type": "execute_result"
    }
   ],
   "source": []
  },
  {
   "cell_type": "markdown",
   "id": "a61d8cd7",
   "metadata": {},
   "source": [
    "## 1.5. Matirx"
   ]
  },
  {
   "cell_type": "code",
   "execution_count": 39,
   "id": "113510e5",
   "metadata": {
    "ExecuteTime": {
     "end_time": "2021-07-25T22:15:23.393632Z",
     "start_time": "2021-07-25T22:15:23.378643Z"
    }
   },
   "outputs": [
    {
     "name": "stdout",
     "output_type": "stream",
     "text": [
      "[[1 2]\n",
      " [3 4]]\n",
      "[[5 6]\n",
      " [7 8]]\n"
     ]
    }
   ],
   "source": [
    "x = np.array([[1,2], [3,4]])\n",
    "y = np.array([5,6], [7,8])"
   ]
  },
  {
   "cell_type": "markdown",
   "id": "2469af7e",
   "metadata": {},
   "source": [
    "- **요소 곱**"
   ]
  },
  {
   "cell_type": "code",
   "execution_count": 40,
   "id": "82ee5a89",
   "metadata": {
    "ExecuteTime": {
     "end_time": "2021-07-25T22:15:23.409560Z",
     "start_time": "2021-07-25T22:15:23.394633Z"
    }
   },
   "outputs": [
    {
     "data": {
      "text/plain": [
       "array([[ 5, 12],\n",
       "       [21, 32]])"
      ]
     },
     "execution_count": 40,
     "metadata": {},
     "output_type": "execute_result"
    }
   ],
   "source": []
  },
  {
   "cell_type": "markdown",
   "id": "9d01161c",
   "metadata": {},
   "source": [
    "- **매트릭스 연산**"
   ]
  },
  {
   "cell_type": "code",
   "execution_count": 41,
   "id": "d3e4f320",
   "metadata": {
    "ExecuteTime": {
     "end_time": "2021-07-25T22:15:23.424548Z",
     "start_time": "2021-07-25T22:15:23.410558Z"
    }
   },
   "outputs": [
    {
     "data": {
      "text/plain": [
       "array([[19, 22],\n",
       "       [43, 50]])"
      ]
     },
     "execution_count": 41,
     "metadata": {},
     "output_type": "execute_result"
    }
   ],
   "source": []
  },
  {
   "cell_type": "code",
   "execution_count": 42,
   "id": "2d73a38f",
   "metadata": {
    "ExecuteTime": {
     "end_time": "2021-07-25T22:15:23.440504Z",
     "start_time": "2021-07-25T22:15:23.425517Z"
    }
   },
   "outputs": [
    {
     "data": {
      "text/plain": [
       "array([[19, 22],\n",
       "       [43, 50]])"
      ]
     },
     "execution_count": 42,
     "metadata": {},
     "output_type": "execute_result"
    }
   ],
   "source": []
  },
  {
   "cell_type": "code",
   "execution_count": 43,
   "id": "88930855",
   "metadata": {
    "ExecuteTime": {
     "end_time": "2021-07-25T22:15:23.455437Z",
     "start_time": "2021-07-25T22:15:23.441475Z"
    },
    "scrolled": true
   },
   "outputs": [
    {
     "data": {
      "text/plain": [
       "matrix([[19, 22],\n",
       "        [43, 50]])"
      ]
     },
     "execution_count": 43,
     "metadata": {},
     "output_type": "execute_result"
    }
   ],
   "source": []
  },
  {
   "cell_type": "markdown",
   "id": "e3638ac3",
   "metadata": {},
   "source": [
    "## 1.6. Copy"
   ]
  },
  {
   "cell_type": "markdown",
   "id": "c4548059",
   "metadata": {},
   "source": [
    "- **Be careful when copying arrays!!!**"
   ]
  },
  {
   "cell_type": "code",
   "execution_count": 44,
   "id": "d8b7588c",
   "metadata": {
    "ExecuteTime": {
     "end_time": "2021-07-25T22:15:23.470425Z",
     "start_time": "2021-07-25T22:15:23.456437Z"
    }
   },
   "outputs": [
    {
     "name": "stdout",
     "output_type": "stream",
     "text": [
      "[100   1   2]\n"
     ]
    }
   ],
   "source": []
  },
  {
   "cell_type": "code",
   "execution_count": 45,
   "id": "d5a89441",
   "metadata": {
    "ExecuteTime": {
     "end_time": "2021-07-25T22:15:23.485358Z",
     "start_time": "2021-07-25T22:15:23.471396Z"
    }
   },
   "outputs": [
    {
     "name": "stdout",
     "output_type": "stream",
     "text": [
      "[100   1   2]\n"
     ]
    }
   ],
   "source": []
  },
  {
   "cell_type": "code",
   "execution_count": 46,
   "id": "a6ffda2e",
   "metadata": {
    "ExecuteTime": {
     "end_time": "2021-07-25T22:15:23.501343Z",
     "start_time": "2021-07-25T22:15:23.486355Z"
    }
   },
   "outputs": [
    {
     "name": "stdout",
     "output_type": "stream",
     "text": [
      "[100   1   2]\n"
     ]
    }
   ],
   "source": []
  },
  {
   "cell_type": "code",
   "execution_count": 47,
   "id": "2e6d9642",
   "metadata": {
    "ExecuteTime": {
     "end_time": "2021-07-25T22:15:23.517295Z",
     "start_time": "2021-07-25T22:15:23.502312Z"
    }
   },
   "outputs": [
    {
     "name": "stdout",
     "output_type": "stream",
     "text": [
      "[0 1 2]\n"
     ]
    }
   ],
   "source": []
  },
  {
   "cell_type": "markdown",
   "id": "07ecf320",
   "metadata": {},
   "source": [
    "## 1.7. Practice"
   ]
  },
  {
   "cell_type": "markdown",
   "id": "51a56c25",
   "metadata": {},
   "source": [
    "### ex 1"
   ]
  },
  {
   "cell_type": "markdown",
   "id": "30053b41",
   "metadata": {
    "ExecuteTime": {
     "end_time": "2021-07-24T16:56:36.279629Z",
     "start_time": "2021-07-24T16:56:36.262671Z"
    }
   },
   "source": [
    "<img src=\"./image_files/prac1.PNG\" width = 300>"
   ]
  },
  {
   "cell_type": "code",
   "execution_count": 48,
   "id": "6bfd1c2c",
   "metadata": {
    "ExecuteTime": {
     "end_time": "2021-07-25T22:15:23.533257Z",
     "start_time": "2021-07-25T22:15:23.518269Z"
    }
   },
   "outputs": [
    {
     "name": "stdout",
     "output_type": "stream",
     "text": [
      "[ 0  1  3  6 10 15 21 28 36 45]\n"
     ]
    }
   ],
   "source": []
  },
  {
   "cell_type": "markdown",
   "id": "8eddfbf8",
   "metadata": {},
   "source": [
    "### ex 2"
   ]
  },
  {
   "cell_type": "markdown",
   "id": "3e4bfdde",
   "metadata": {
    "ExecuteTime": {
     "end_time": "2021-07-25T18:12:05.974467Z",
     "start_time": "2021-07-25T18:12:05.958482Z"
    }
   },
   "source": [
    "<img src=\"./image_files/prac2.PNG\" width = 300>"
   ]
  },
  {
   "cell_type": "code",
   "execution_count": null,
   "id": "ed13f06a",
   "metadata": {},
   "outputs": [],
   "source": []
  },
  {
   "cell_type": "markdown",
   "id": "6aa39411",
   "metadata": {},
   "source": [
    "# 2. Pandas"
   ]
  },
  {
   "cell_type": "markdown",
   "id": "cb66391c",
   "metadata": {},
   "source": [
    "- Pandas는 Python 기반의 Data 해석 라이브러리이다.\n",
    "- Excel과 같은 포맷의 파일을 불러올 때 사용한다."
   ]
  },
  {
   "cell_type": "code",
   "execution_count": 50,
   "id": "13276026",
   "metadata": {
    "ExecuteTime": {
     "end_time": "2021-07-25T22:15:24.008486Z",
     "start_time": "2021-07-25T22:15:23.550185Z"
    }
   },
   "outputs": [],
   "source": []
  },
  {
   "cell_type": "markdown",
   "id": "ef1d0df4",
   "metadata": {},
   "source": [
    "## 2.1. Create Dataframe"
   ]
  },
  {
   "cell_type": "markdown",
   "id": "e130654a",
   "metadata": {},
   "source": [
    "- **알아보기 어려운 데이터**"
   ]
  },
  {
   "cell_type": "code",
   "execution_count": 51,
   "id": "a349120b",
   "metadata": {
    "ExecuteTime": {
     "end_time": "2021-07-25T22:15:24.024466Z",
     "start_time": "2021-07-25T22:15:24.009484Z"
    }
   },
   "outputs": [],
   "source": [
    "data = {\"name_id_code\" : ['0', '105', '12', '130'],\n",
    "       \"year\" : [2017, 2018, 2019, 2020],\n",
    "       \"points\" : [10, 15, 30, 5],\n",
    "       \"penalty\" : [1, 2, 5, 0],\n",
    "       \"audience\" : [3543, 4436, 3321, 2432]}"
   ]
  },
  {
   "cell_type": "markdown",
   "id": "4a7e1659",
   "metadata": {},
   "source": [
    "- **직관적인 데이터 정리**"
   ]
  },
  {
   "cell_type": "code",
   "execution_count": 52,
   "id": "362e9f6e",
   "metadata": {
    "ExecuteTime": {
     "end_time": "2021-07-25T22:15:24.040428Z",
     "start_time": "2021-07-25T22:15:24.025441Z"
    }
   },
   "outputs": [],
   "source": []
  },
  {
   "cell_type": "code",
   "execution_count": 53,
   "id": "bcd2045a",
   "metadata": {
    "ExecuteTime": {
     "end_time": "2021-07-25T22:15:24.056386Z",
     "start_time": "2021-07-25T22:15:24.041399Z"
    }
   },
   "outputs": [
    {
     "data": {
      "text/html": [
       "<div>\n",
       "<style scoped>\n",
       "    .dataframe tbody tr th:only-of-type {\n",
       "        vertical-align: middle;\n",
       "    }\n",
       "\n",
       "    .dataframe tbody tr th {\n",
       "        vertical-align: top;\n",
       "    }\n",
       "\n",
       "    .dataframe thead th {\n",
       "        text-align: right;\n",
       "    }\n",
       "</style>\n",
       "<table border=\"1\" class=\"dataframe\">\n",
       "  <thead>\n",
       "    <tr style=\"text-align: right;\">\n",
       "      <th></th>\n",
       "      <th>year</th>\n",
       "      <th>name_id_code</th>\n",
       "      <th>points</th>\n",
       "      <th>penalty</th>\n",
       "      <th>audience</th>\n",
       "    </tr>\n",
       "  </thead>\n",
       "  <tbody>\n",
       "    <tr>\n",
       "      <th>1</th>\n",
       "      <td>2017</td>\n",
       "      <td>0</td>\n",
       "      <td>10</td>\n",
       "      <td>1</td>\n",
       "      <td>3543</td>\n",
       "    </tr>\n",
       "    <tr>\n",
       "      <th>2</th>\n",
       "      <td>2018</td>\n",
       "      <td>105</td>\n",
       "      <td>15</td>\n",
       "      <td>2</td>\n",
       "      <td>4436</td>\n",
       "    </tr>\n",
       "    <tr>\n",
       "      <th>3</th>\n",
       "      <td>2019</td>\n",
       "      <td>12</td>\n",
       "      <td>30</td>\n",
       "      <td>5</td>\n",
       "      <td>3321</td>\n",
       "    </tr>\n",
       "    <tr>\n",
       "      <th>4</th>\n",
       "      <td>2020</td>\n",
       "      <td>130</td>\n",
       "      <td>5</td>\n",
       "      <td>0</td>\n",
       "      <td>2432</td>\n",
       "    </tr>\n",
       "  </tbody>\n",
       "</table>\n",
       "</div>"
      ],
      "text/plain": [
       "   year name_id_code  points  penalty  audience\n",
       "1  2017            0      10        1      3543\n",
       "2  2018          105      15        2      4436\n",
       "3  2019           12      30        5      3321\n",
       "4  2020          130       5        0      2432"
      ]
     },
     "execution_count": 53,
     "metadata": {},
     "output_type": "execute_result"
    }
   ],
   "source": []
  },
  {
   "cell_type": "markdown",
   "id": "18b872ed",
   "metadata": {},
   "source": [
    "## 2.2. Save & Read"
   ]
  },
  {
   "cell_type": "markdown",
   "id": "121581f4",
   "metadata": {},
   "source": [
    "- **저장**"
   ]
  },
  {
   "cell_type": "code",
   "execution_count": 54,
   "id": "b3dd7048",
   "metadata": {
    "ExecuteTime": {
     "end_time": "2021-07-25T22:15:24.072348Z",
     "start_time": "2021-07-25T22:15:24.057356Z"
    }
   },
   "outputs": [],
   "source": []
  },
  {
   "cell_type": "markdown",
   "id": "96924760",
   "metadata": {},
   "source": [
    "- **읽기**"
   ]
  },
  {
   "cell_type": "code",
   "execution_count": 55,
   "id": "f268fae0",
   "metadata": {
    "ExecuteTime": {
     "end_time": "2021-07-25T22:15:24.088301Z",
     "start_time": "2021-07-25T22:15:24.073343Z"
    },
    "scrolled": true
   },
   "outputs": [
    {
     "data": {
      "text/html": [
       "<div>\n",
       "<style scoped>\n",
       "    .dataframe tbody tr th:only-of-type {\n",
       "        vertical-align: middle;\n",
       "    }\n",
       "\n",
       "    .dataframe tbody tr th {\n",
       "        vertical-align: top;\n",
       "    }\n",
       "\n",
       "    .dataframe thead th {\n",
       "        text-align: right;\n",
       "    }\n",
       "</style>\n",
       "<table border=\"1\" class=\"dataframe\">\n",
       "  <thead>\n",
       "    <tr style=\"text-align: right;\">\n",
       "      <th></th>\n",
       "      <th>Unnamed: 0</th>\n",
       "      <th>year</th>\n",
       "      <th>name_id_code</th>\n",
       "      <th>points</th>\n",
       "      <th>penalty</th>\n",
       "      <th>audience</th>\n",
       "    </tr>\n",
       "  </thead>\n",
       "  <tbody>\n",
       "    <tr>\n",
       "      <th>0</th>\n",
       "      <td>1</td>\n",
       "      <td>2017</td>\n",
       "      <td>0</td>\n",
       "      <td>10</td>\n",
       "      <td>1</td>\n",
       "      <td>3543</td>\n",
       "    </tr>\n",
       "    <tr>\n",
       "      <th>1</th>\n",
       "      <td>2</td>\n",
       "      <td>2018</td>\n",
       "      <td>105</td>\n",
       "      <td>15</td>\n",
       "      <td>2</td>\n",
       "      <td>4436</td>\n",
       "    </tr>\n",
       "    <tr>\n",
       "      <th>2</th>\n",
       "      <td>3</td>\n",
       "      <td>2019</td>\n",
       "      <td>12</td>\n",
       "      <td>30</td>\n",
       "      <td>5</td>\n",
       "      <td>3321</td>\n",
       "    </tr>\n",
       "    <tr>\n",
       "      <th>3</th>\n",
       "      <td>4</td>\n",
       "      <td>2020</td>\n",
       "      <td>130</td>\n",
       "      <td>5</td>\n",
       "      <td>0</td>\n",
       "      <td>2432</td>\n",
       "    </tr>\n",
       "  </tbody>\n",
       "</table>\n",
       "</div>"
      ],
      "text/plain": [
       "   Unnamed: 0  year  name_id_code  points  penalty  audience\n",
       "0           1  2017             0      10        1      3543\n",
       "1           2  2018           105      15        2      4436\n",
       "2           3  2019            12      30        5      3321\n",
       "3           4  2020           130       5        0      2432"
      ]
     },
     "execution_count": 55,
     "metadata": {},
     "output_type": "execute_result"
    }
   ],
   "source": []
  },
  {
   "cell_type": "code",
   "execution_count": 56,
   "id": "7de5b64e",
   "metadata": {
    "ExecuteTime": {
     "end_time": "2021-07-25T22:15:24.104262Z",
     "start_time": "2021-07-25T22:15:24.089298Z"
    }
   },
   "outputs": [
    {
     "data": {
      "text/html": [
       "<div>\n",
       "<style scoped>\n",
       "    .dataframe tbody tr th:only-of-type {\n",
       "        vertical-align: middle;\n",
       "    }\n",
       "\n",
       "    .dataframe tbody tr th {\n",
       "        vertical-align: top;\n",
       "    }\n",
       "\n",
       "    .dataframe thead th {\n",
       "        text-align: right;\n",
       "    }\n",
       "</style>\n",
       "<table border=\"1\" class=\"dataframe\">\n",
       "  <thead>\n",
       "    <tr style=\"text-align: right;\">\n",
       "      <th></th>\n",
       "      <th>year</th>\n",
       "      <th>name_id_code</th>\n",
       "      <th>points</th>\n",
       "      <th>penalty</th>\n",
       "      <th>audience</th>\n",
       "    </tr>\n",
       "  </thead>\n",
       "  <tbody>\n",
       "    <tr>\n",
       "      <th>1</th>\n",
       "      <td>2017</td>\n",
       "      <td>0</td>\n",
       "      <td>10</td>\n",
       "      <td>1</td>\n",
       "      <td>3543</td>\n",
       "    </tr>\n",
       "    <tr>\n",
       "      <th>2</th>\n",
       "      <td>2018</td>\n",
       "      <td>105</td>\n",
       "      <td>15</td>\n",
       "      <td>2</td>\n",
       "      <td>4436</td>\n",
       "    </tr>\n",
       "    <tr>\n",
       "      <th>3</th>\n",
       "      <td>2019</td>\n",
       "      <td>12</td>\n",
       "      <td>30</td>\n",
       "      <td>5</td>\n",
       "      <td>3321</td>\n",
       "    </tr>\n",
       "    <tr>\n",
       "      <th>4</th>\n",
       "      <td>2020</td>\n",
       "      <td>130</td>\n",
       "      <td>5</td>\n",
       "      <td>0</td>\n",
       "      <td>2432</td>\n",
       "    </tr>\n",
       "  </tbody>\n",
       "</table>\n",
       "</div>"
      ],
      "text/plain": [
       "   year  name_id_code  points  penalty  audience\n",
       "1  2017             0      10        1      3543\n",
       "2  2018           105      15        2      4436\n",
       "3  2019            12      30        5      3321\n",
       "4  2020           130       5        0      2432"
      ]
     },
     "execution_count": 56,
     "metadata": {},
     "output_type": "execute_result"
    }
   ],
   "source": []
  },
  {
   "cell_type": "code",
   "execution_count": 57,
   "id": "c8c3c7ba",
   "metadata": {
    "ExecuteTime": {
     "end_time": "2021-07-25T22:15:24.120187Z",
     "start_time": "2021-07-25T22:15:24.105228Z"
    }
   },
   "outputs": [
    {
     "data": {
      "text/html": [
       "<div>\n",
       "<style scoped>\n",
       "    .dataframe tbody tr th:only-of-type {\n",
       "        vertical-align: middle;\n",
       "    }\n",
       "\n",
       "    .dataframe tbody tr th {\n",
       "        vertical-align: top;\n",
       "    }\n",
       "\n",
       "    .dataframe thead th {\n",
       "        text-align: right;\n",
       "    }\n",
       "</style>\n",
       "<table border=\"1\" class=\"dataframe\">\n",
       "  <thead>\n",
       "    <tr style=\"text-align: right;\">\n",
       "      <th></th>\n",
       "      <th>year</th>\n",
       "      <th>name_id_code</th>\n",
       "      <th>points</th>\n",
       "      <th>penalty</th>\n",
       "      <th>audience</th>\n",
       "    </tr>\n",
       "    <tr>\n",
       "      <th>Unnamed: 0</th>\n",
       "      <th></th>\n",
       "      <th></th>\n",
       "      <th></th>\n",
       "      <th></th>\n",
       "      <th></th>\n",
       "    </tr>\n",
       "  </thead>\n",
       "  <tbody>\n",
       "    <tr>\n",
       "      <th>1</th>\n",
       "      <td>2017</td>\n",
       "      <td>0</td>\n",
       "      <td>10</td>\n",
       "      <td>1</td>\n",
       "      <td>3543</td>\n",
       "    </tr>\n",
       "    <tr>\n",
       "      <th>2</th>\n",
       "      <td>2018</td>\n",
       "      <td>105</td>\n",
       "      <td>15</td>\n",
       "      <td>2</td>\n",
       "      <td>4436</td>\n",
       "    </tr>\n",
       "    <tr>\n",
       "      <th>3</th>\n",
       "      <td>2019</td>\n",
       "      <td>12</td>\n",
       "      <td>30</td>\n",
       "      <td>5</td>\n",
       "      <td>3321</td>\n",
       "    </tr>\n",
       "    <tr>\n",
       "      <th>4</th>\n",
       "      <td>2020</td>\n",
       "      <td>130</td>\n",
       "      <td>5</td>\n",
       "      <td>0</td>\n",
       "      <td>2432</td>\n",
       "    </tr>\n",
       "  </tbody>\n",
       "</table>\n",
       "</div>"
      ],
      "text/plain": [
       "            year  name_id_code  points  penalty  audience\n",
       "Unnamed: 0                                               \n",
       "1           2017             0      10        1      3543\n",
       "2           2018           105      15        2      4436\n",
       "3           2019            12      30        5      3321\n",
       "4           2020           130       5        0      2432"
      ]
     },
     "execution_count": 57,
     "metadata": {},
     "output_type": "execute_result"
    }
   ],
   "source": []
  },
  {
   "cell_type": "markdown",
   "id": "13ca01c0",
   "metadata": {},
   "source": [
    "## 2.3. Data Analysis"
   ]
  },
  {
   "cell_type": "code",
   "execution_count": 58,
   "id": "c7b53a18",
   "metadata": {
    "ExecuteTime": {
     "end_time": "2021-07-25T22:15:24.136172Z",
     "start_time": "2021-07-25T22:15:24.121186Z"
    }
   },
   "outputs": [],
   "source": [
    "data_2 = {\"name_id_code\" : ['1000', '1105', '998', '1001'],\n",
    "          \"year\" : [2020, 2020, 2020, 2021],\n",
    "          \"points\" : [100, 90, 60, 55],\n",
    "          \"penalty\" : [5, 10, 5, 5],\n",
    "          \"audience\" : [3252, 6545, 2342, 7754]}"
   ]
  },
  {
   "cell_type": "code",
   "execution_count": 59,
   "id": "ebb6e9b4",
   "metadata": {
    "ExecuteTime": {
     "end_time": "2021-07-25T22:15:24.152125Z",
     "start_time": "2021-07-25T22:15:24.137142Z"
    }
   },
   "outputs": [],
   "source": []
  },
  {
   "cell_type": "code",
   "execution_count": 60,
   "id": "3bc2d9ac",
   "metadata": {
    "ExecuteTime": {
     "end_time": "2021-07-25T22:15:24.168086Z",
     "start_time": "2021-07-25T22:15:24.153100Z"
    }
   },
   "outputs": [
    {
     "data": {
      "text/html": [
       "<div>\n",
       "<style scoped>\n",
       "    .dataframe tbody tr th:only-of-type {\n",
       "        vertical-align: middle;\n",
       "    }\n",
       "\n",
       "    .dataframe tbody tr th {\n",
       "        vertical-align: top;\n",
       "    }\n",
       "\n",
       "    .dataframe thead th {\n",
       "        text-align: right;\n",
       "    }\n",
       "</style>\n",
       "<table border=\"1\" class=\"dataframe\">\n",
       "  <thead>\n",
       "    <tr style=\"text-align: right;\">\n",
       "      <th></th>\n",
       "      <th>year</th>\n",
       "      <th>name_id_code</th>\n",
       "      <th>points</th>\n",
       "      <th>penalty</th>\n",
       "      <th>audience</th>\n",
       "    </tr>\n",
       "  </thead>\n",
       "  <tbody>\n",
       "    <tr>\n",
       "      <th>5</th>\n",
       "      <td>2020</td>\n",
       "      <td>1000</td>\n",
       "      <td>100</td>\n",
       "      <td>5</td>\n",
       "      <td>3252</td>\n",
       "    </tr>\n",
       "    <tr>\n",
       "      <th>6</th>\n",
       "      <td>2020</td>\n",
       "      <td>1105</td>\n",
       "      <td>90</td>\n",
       "      <td>10</td>\n",
       "      <td>6545</td>\n",
       "    </tr>\n",
       "    <tr>\n",
       "      <th>7</th>\n",
       "      <td>2020</td>\n",
       "      <td>998</td>\n",
       "      <td>60</td>\n",
       "      <td>5</td>\n",
       "      <td>2342</td>\n",
       "    </tr>\n",
       "    <tr>\n",
       "      <th>8</th>\n",
       "      <td>2021</td>\n",
       "      <td>1001</td>\n",
       "      <td>55</td>\n",
       "      <td>5</td>\n",
       "      <td>7754</td>\n",
       "    </tr>\n",
       "  </tbody>\n",
       "</table>\n",
       "</div>"
      ],
      "text/plain": [
       "   year name_id_code  points  penalty  audience\n",
       "5  2020         1000     100        5      3252\n",
       "6  2020         1105      90       10      6545\n",
       "7  2020          998      60        5      2342\n",
       "8  2021         1001      55        5      7754"
      ]
     },
     "execution_count": 60,
     "metadata": {},
     "output_type": "execute_result"
    }
   ],
   "source": []
  },
  {
   "cell_type": "markdown",
   "id": "6d3b870e",
   "metadata": {},
   "source": [
    "- **mean/std**"
   ]
  },
  {
   "cell_type": "code",
   "execution_count": 61,
   "id": "a654732e",
   "metadata": {
    "ExecuteTime": {
     "end_time": "2021-07-25T22:15:24.184049Z",
     "start_time": "2021-07-25T22:15:24.169096Z"
    }
   },
   "outputs": [
    {
     "data": {
      "text/plain": [
       "76.25"
      ]
     },
     "execution_count": 61,
     "metadata": {},
     "output_type": "execute_result"
    }
   ],
   "source": []
  },
  {
   "cell_type": "code",
   "execution_count": 62,
   "id": "6f105032",
   "metadata": {
    "ExecuteTime": {
     "end_time": "2021-07-25T22:15:24.200001Z",
     "start_time": "2021-07-25T22:15:24.185015Z"
    }
   },
   "outputs": [
    {
     "data": {
      "text/plain": [
       "22.12653007891959"
      ]
     },
     "execution_count": 62,
     "metadata": {},
     "output_type": "execute_result"
    }
   ],
   "source": []
  },
  {
   "cell_type": "markdown",
   "id": "c9dd6cd3",
   "metadata": {},
   "source": [
    "- **min/max**"
   ]
  },
  {
   "cell_type": "code",
   "execution_count": 63,
   "id": "74be30df",
   "metadata": {
    "ExecuteTime": {
     "end_time": "2021-07-25T22:15:24.215931Z",
     "start_time": "2021-07-25T22:15:24.200972Z"
    }
   },
   "outputs": [
    {
     "data": {
      "text/plain": [
       "55"
      ]
     },
     "execution_count": 63,
     "metadata": {},
     "output_type": "execute_result"
    }
   ],
   "source": []
  },
  {
   "cell_type": "code",
   "execution_count": 64,
   "id": "c55a8180",
   "metadata": {
    "ExecuteTime": {
     "end_time": "2021-07-25T22:15:24.231916Z",
     "start_time": "2021-07-25T22:15:24.216930Z"
    }
   },
   "outputs": [
    {
     "data": {
      "text/plain": [
       "100"
      ]
     },
     "execution_count": 64,
     "metadata": {},
     "output_type": "execute_result"
    }
   ],
   "source": []
  },
  {
   "cell_type": "markdown",
   "id": "cf17841b",
   "metadata": {},
   "source": [
    "- **종합적인 분석**"
   ]
  },
  {
   "cell_type": "code",
   "execution_count": 65,
   "id": "1a91bbea",
   "metadata": {
    "ExecuteTime": {
     "end_time": "2021-07-25T22:15:24.247877Z",
     "start_time": "2021-07-25T22:15:24.232887Z"
    },
    "scrolled": true
   },
   "outputs": [
    {
     "data": {
      "text/html": [
       "<div>\n",
       "<style scoped>\n",
       "    .dataframe tbody tr th:only-of-type {\n",
       "        vertical-align: middle;\n",
       "    }\n",
       "\n",
       "    .dataframe tbody tr th {\n",
       "        vertical-align: top;\n",
       "    }\n",
       "\n",
       "    .dataframe thead th {\n",
       "        text-align: right;\n",
       "    }\n",
       "</style>\n",
       "<table border=\"1\" class=\"dataframe\">\n",
       "  <thead>\n",
       "    <tr style=\"text-align: right;\">\n",
       "      <th></th>\n",
       "      <th>year</th>\n",
       "      <th>points</th>\n",
       "      <th>penalty</th>\n",
       "      <th>audience</th>\n",
       "    </tr>\n",
       "  </thead>\n",
       "  <tbody>\n",
       "    <tr>\n",
       "      <th>count</th>\n",
       "      <td>4.00</td>\n",
       "      <td>4.00000</td>\n",
       "      <td>4.00</td>\n",
       "      <td>4.000000</td>\n",
       "    </tr>\n",
       "    <tr>\n",
       "      <th>mean</th>\n",
       "      <td>2020.25</td>\n",
       "      <td>76.25000</td>\n",
       "      <td>6.25</td>\n",
       "      <td>4973.250000</td>\n",
       "    </tr>\n",
       "    <tr>\n",
       "      <th>std</th>\n",
       "      <td>0.50</td>\n",
       "      <td>22.12653</td>\n",
       "      <td>2.50</td>\n",
       "      <td>2587.736897</td>\n",
       "    </tr>\n",
       "    <tr>\n",
       "      <th>min</th>\n",
       "      <td>2020.00</td>\n",
       "      <td>55.00000</td>\n",
       "      <td>5.00</td>\n",
       "      <td>2342.000000</td>\n",
       "    </tr>\n",
       "    <tr>\n",
       "      <th>25%</th>\n",
       "      <td>2020.00</td>\n",
       "      <td>58.75000</td>\n",
       "      <td>5.00</td>\n",
       "      <td>3024.500000</td>\n",
       "    </tr>\n",
       "    <tr>\n",
       "      <th>50%</th>\n",
       "      <td>2020.00</td>\n",
       "      <td>75.00000</td>\n",
       "      <td>5.00</td>\n",
       "      <td>4898.500000</td>\n",
       "    </tr>\n",
       "    <tr>\n",
       "      <th>75%</th>\n",
       "      <td>2020.25</td>\n",
       "      <td>92.50000</td>\n",
       "      <td>6.25</td>\n",
       "      <td>6847.250000</td>\n",
       "    </tr>\n",
       "    <tr>\n",
       "      <th>max</th>\n",
       "      <td>2021.00</td>\n",
       "      <td>100.00000</td>\n",
       "      <td>10.00</td>\n",
       "      <td>7754.000000</td>\n",
       "    </tr>\n",
       "  </tbody>\n",
       "</table>\n",
       "</div>"
      ],
      "text/plain": [
       "          year     points  penalty     audience\n",
       "count     4.00    4.00000     4.00     4.000000\n",
       "mean   2020.25   76.25000     6.25  4973.250000\n",
       "std       0.50   22.12653     2.50  2587.736897\n",
       "min    2020.00   55.00000     5.00  2342.000000\n",
       "25%    2020.00   58.75000     5.00  3024.500000\n",
       "50%    2020.00   75.00000     5.00  4898.500000\n",
       "75%    2020.25   92.50000     6.25  6847.250000\n",
       "max    2021.00  100.00000    10.00  7754.000000"
      ]
     },
     "execution_count": 65,
     "metadata": {},
     "output_type": "execute_result"
    }
   ],
   "source": []
  },
  {
   "cell_type": "markdown",
   "id": "55147fb0",
   "metadata": {},
   "source": [
    "- **데이터 type 확인**"
   ]
  },
  {
   "cell_type": "code",
   "execution_count": 66,
   "id": "8372c02f",
   "metadata": {
    "ExecuteTime": {
     "end_time": "2021-07-25T22:15:24.263835Z",
     "start_time": "2021-07-25T22:15:24.248844Z"
    },
    "scrolled": true
   },
   "outputs": [
    {
     "data": {
      "text/plain": [
       "year             int64\n",
       "name_id_code    object\n",
       "points           int64\n",
       "penalty          int64\n",
       "audience         int64\n",
       "dtype: object"
      ]
     },
     "execution_count": 66,
     "metadata": {},
     "output_type": "execute_result"
    }
   ],
   "source": []
  },
  {
   "cell_type": "markdown",
   "id": "9d81eec3",
   "metadata": {},
   "source": [
    "- **데이터 형식 변경**"
   ]
  },
  {
   "cell_type": "code",
   "execution_count": 67,
   "id": "c0cb1f6d",
   "metadata": {
    "ExecuteTime": {
     "end_time": "2021-07-25T22:15:24.278763Z",
     "start_time": "2021-07-25T22:15:24.264801Z"
    }
   },
   "outputs": [],
   "source": []
  },
  {
   "cell_type": "code",
   "execution_count": 68,
   "id": "98321116",
   "metadata": {
    "ExecuteTime": {
     "end_time": "2021-07-25T22:15:24.294749Z",
     "start_time": "2021-07-25T22:15:24.282780Z"
    }
   },
   "outputs": [
    {
     "data": {
      "text/plain": [
       "year            float64\n",
       "name_id_code    float64\n",
       "points          float64\n",
       "penalty         float64\n",
       "audience        float64\n",
       "dtype: object"
      ]
     },
     "execution_count": 68,
     "metadata": {},
     "output_type": "execute_result"
    }
   ],
   "source": []
  },
  {
   "cell_type": "code",
   "execution_count": 69,
   "id": "ed3b57b2",
   "metadata": {
    "ExecuteTime": {
     "end_time": "2021-07-25T22:15:24.310700Z",
     "start_time": "2021-07-25T22:15:24.296717Z"
    }
   },
   "outputs": [],
   "source": []
  },
  {
   "cell_type": "code",
   "execution_count": 70,
   "id": "daf78832",
   "metadata": {
    "ExecuteTime": {
     "end_time": "2021-07-25T22:15:24.325661Z",
     "start_time": "2021-07-25T22:15:24.311707Z"
    }
   },
   "outputs": [
    {
     "data": {
      "text/plain": [
       "year            int64\n",
       "name_id_code    int32\n",
       "points          int64\n",
       "penalty         int64\n",
       "audience        int64\n",
       "dtype: object"
      ]
     },
     "execution_count": 70,
     "metadata": {},
     "output_type": "execute_result"
    }
   ],
   "source": []
  },
  {
   "cell_type": "code",
   "execution_count": 71,
   "id": "751d5195",
   "metadata": {
    "ExecuteTime": {
     "end_time": "2021-07-25T22:15:24.341596Z",
     "start_time": "2021-07-25T22:15:24.326636Z"
    }
   },
   "outputs": [
    {
     "data": {
      "text/html": [
       "<div>\n",
       "<style scoped>\n",
       "    .dataframe tbody tr th:only-of-type {\n",
       "        vertical-align: middle;\n",
       "    }\n",
       "\n",
       "    .dataframe tbody tr th {\n",
       "        vertical-align: top;\n",
       "    }\n",
       "\n",
       "    .dataframe thead th {\n",
       "        text-align: right;\n",
       "    }\n",
       "</style>\n",
       "<table border=\"1\" class=\"dataframe\">\n",
       "  <thead>\n",
       "    <tr style=\"text-align: right;\">\n",
       "      <th></th>\n",
       "      <th>year</th>\n",
       "      <th>name_id_code</th>\n",
       "      <th>points</th>\n",
       "      <th>penalty</th>\n",
       "      <th>audience</th>\n",
       "    </tr>\n",
       "  </thead>\n",
       "  <tbody>\n",
       "    <tr>\n",
       "      <th>5</th>\n",
       "      <td>2020</td>\n",
       "      <td>1000</td>\n",
       "      <td>100</td>\n",
       "      <td>5</td>\n",
       "      <td>3252</td>\n",
       "    </tr>\n",
       "    <tr>\n",
       "      <th>6</th>\n",
       "      <td>2020</td>\n",
       "      <td>1105</td>\n",
       "      <td>90</td>\n",
       "      <td>10</td>\n",
       "      <td>6545</td>\n",
       "    </tr>\n",
       "    <tr>\n",
       "      <th>7</th>\n",
       "      <td>2020</td>\n",
       "      <td>998</td>\n",
       "      <td>60</td>\n",
       "      <td>5</td>\n",
       "      <td>2342</td>\n",
       "    </tr>\n",
       "    <tr>\n",
       "      <th>8</th>\n",
       "      <td>2021</td>\n",
       "      <td>1001</td>\n",
       "      <td>55</td>\n",
       "      <td>5</td>\n",
       "      <td>7754</td>\n",
       "    </tr>\n",
       "  </tbody>\n",
       "</table>\n",
       "</div>"
      ],
      "text/plain": [
       "   year  name_id_code  points  penalty  audience\n",
       "5  2020          1000     100        5      3252\n",
       "6  2020          1105      90       10      6545\n",
       "7  2020           998      60        5      2342\n",
       "8  2021          1001      55        5      7754"
      ]
     },
     "execution_count": 71,
     "metadata": {},
     "output_type": "execute_result"
    }
   ],
   "source": []
  },
  {
   "cell_type": "markdown",
   "id": "4391bf08",
   "metadata": {},
   "source": [
    "- **isin**"
   ]
  },
  {
   "cell_type": "code",
   "execution_count": 72,
   "id": "a293e495",
   "metadata": {
    "ExecuteTime": {
     "end_time": "2021-07-25T22:15:24.357580Z",
     "start_time": "2021-07-25T22:15:24.342593Z"
    }
   },
   "outputs": [
    {
     "data": {
      "text/plain": [
       "5     True\n",
       "6    False\n",
       "7    False\n",
       "8    False\n",
       "Name: points, dtype: bool"
      ]
     },
     "execution_count": 72,
     "metadata": {},
     "output_type": "execute_result"
    }
   ],
   "source": []
  },
  {
   "cell_type": "code",
   "execution_count": 73,
   "id": "a9cc1b51",
   "metadata": {
    "ExecuteTime": {
     "end_time": "2021-07-25T22:15:24.373538Z",
     "start_time": "2021-07-25T22:15:24.358551Z"
    },
    "scrolled": true
   },
   "outputs": [
    {
     "data": {
      "text/html": [
       "<div>\n",
       "<style scoped>\n",
       "    .dataframe tbody tr th:only-of-type {\n",
       "        vertical-align: middle;\n",
       "    }\n",
       "\n",
       "    .dataframe tbody tr th {\n",
       "        vertical-align: top;\n",
       "    }\n",
       "\n",
       "    .dataframe thead th {\n",
       "        text-align: right;\n",
       "    }\n",
       "</style>\n",
       "<table border=\"1\" class=\"dataframe\">\n",
       "  <thead>\n",
       "    <tr style=\"text-align: right;\">\n",
       "      <th></th>\n",
       "      <th>year</th>\n",
       "      <th>name_id_code</th>\n",
       "      <th>points</th>\n",
       "      <th>penalty</th>\n",
       "      <th>audience</th>\n",
       "    </tr>\n",
       "  </thead>\n",
       "  <tbody>\n",
       "    <tr>\n",
       "      <th>5</th>\n",
       "      <td>2020</td>\n",
       "      <td>1000</td>\n",
       "      <td>100</td>\n",
       "      <td>5</td>\n",
       "      <td>3252</td>\n",
       "    </tr>\n",
       "  </tbody>\n",
       "</table>\n",
       "</div>"
      ],
      "text/plain": [
       "   year  name_id_code  points  penalty  audience\n",
       "5  2020          1000     100        5      3252"
      ]
     },
     "execution_count": 73,
     "metadata": {},
     "output_type": "execute_result"
    }
   ],
   "source": []
  },
  {
   "cell_type": "markdown",
   "id": "c94873b4",
   "metadata": {},
   "source": [
    "- **isin 응용**"
   ]
  },
  {
   "cell_type": "code",
   "execution_count": 74,
   "id": "ddbd57a0",
   "metadata": {
    "ExecuteTime": {
     "end_time": "2021-07-25T22:15:24.389491Z",
     "start_time": "2021-07-25T22:15:24.374542Z"
    }
   },
   "outputs": [
    {
     "data": {
      "text/html": [
       "<div>\n",
       "<style scoped>\n",
       "    .dataframe tbody tr th:only-of-type {\n",
       "        vertical-align: middle;\n",
       "    }\n",
       "\n",
       "    .dataframe tbody tr th {\n",
       "        vertical-align: top;\n",
       "    }\n",
       "\n",
       "    .dataframe thead th {\n",
       "        text-align: right;\n",
       "    }\n",
       "</style>\n",
       "<table border=\"1\" class=\"dataframe\">\n",
       "  <thead>\n",
       "    <tr style=\"text-align: right;\">\n",
       "      <th></th>\n",
       "      <th>year</th>\n",
       "      <th>name_id_code</th>\n",
       "      <th>points</th>\n",
       "      <th>penalty</th>\n",
       "      <th>audience</th>\n",
       "    </tr>\n",
       "  </thead>\n",
       "  <tbody>\n",
       "    <tr>\n",
       "      <th>5</th>\n",
       "      <td>2020</td>\n",
       "      <td>1000</td>\n",
       "      <td>100</td>\n",
       "      <td>5</td>\n",
       "      <td>3252</td>\n",
       "    </tr>\n",
       "    <tr>\n",
       "      <th>6</th>\n",
       "      <td>2020</td>\n",
       "      <td>1105</td>\n",
       "      <td>90</td>\n",
       "      <td>10</td>\n",
       "      <td>6545</td>\n",
       "    </tr>\n",
       "  </tbody>\n",
       "</table>\n",
       "</div>"
      ],
      "text/plain": [
       "   year  name_id_code  points  penalty  audience\n",
       "5  2020          1000     100        5      3252\n",
       "6  2020          1105      90       10      6545"
      ]
     },
     "execution_count": 74,
     "metadata": {},
     "output_type": "execute_result"
    }
   ],
   "source": []
  },
  {
   "cell_type": "markdown",
   "id": "86d285ab",
   "metadata": {},
   "source": [
    "- **조건문**"
   ]
  },
  {
   "cell_type": "code",
   "execution_count": 75,
   "id": "bab23238",
   "metadata": {
    "ExecuteTime": {
     "end_time": "2021-07-25T22:15:24.405452Z",
     "start_time": "2021-07-25T22:15:24.390479Z"
    }
   },
   "outputs": [
    {
     "data": {
      "text/html": [
       "<div>\n",
       "<style scoped>\n",
       "    .dataframe tbody tr th:only-of-type {\n",
       "        vertical-align: middle;\n",
       "    }\n",
       "\n",
       "    .dataframe tbody tr th {\n",
       "        vertical-align: top;\n",
       "    }\n",
       "\n",
       "    .dataframe thead th {\n",
       "        text-align: right;\n",
       "    }\n",
       "</style>\n",
       "<table border=\"1\" class=\"dataframe\">\n",
       "  <thead>\n",
       "    <tr style=\"text-align: right;\">\n",
       "      <th></th>\n",
       "      <th>year</th>\n",
       "      <th>name_id_code</th>\n",
       "      <th>points</th>\n",
       "      <th>penalty</th>\n",
       "      <th>audience</th>\n",
       "    </tr>\n",
       "  </thead>\n",
       "  <tbody>\n",
       "    <tr>\n",
       "      <th>7</th>\n",
       "      <td>2020</td>\n",
       "      <td>998</td>\n",
       "      <td>60</td>\n",
       "      <td>5</td>\n",
       "      <td>2342</td>\n",
       "    </tr>\n",
       "    <tr>\n",
       "      <th>8</th>\n",
       "      <td>2021</td>\n",
       "      <td>1001</td>\n",
       "      <td>55</td>\n",
       "      <td>5</td>\n",
       "      <td>7754</td>\n",
       "    </tr>\n",
       "  </tbody>\n",
       "</table>\n",
       "</div>"
      ],
      "text/plain": [
       "   year  name_id_code  points  penalty  audience\n",
       "7  2020           998      60        5      2342\n",
       "8  2021          1001      55        5      7754"
      ]
     },
     "execution_count": 75,
     "metadata": {},
     "output_type": "execute_result"
    }
   ],
   "source": []
  },
  {
   "cell_type": "markdown",
   "id": "5ee6dac0",
   "metadata": {},
   "source": [
    "- **조건문 응용**"
   ]
  },
  {
   "cell_type": "code",
   "execution_count": 76,
   "id": "3be05730",
   "metadata": {
    "ExecuteTime": {
     "end_time": "2021-07-25T22:15:24.421409Z",
     "start_time": "2021-07-25T22:15:24.406422Z"
    }
   },
   "outputs": [
    {
     "data": {
      "text/html": [
       "<div>\n",
       "<style scoped>\n",
       "    .dataframe tbody tr th:only-of-type {\n",
       "        vertical-align: middle;\n",
       "    }\n",
       "\n",
       "    .dataframe tbody tr th {\n",
       "        vertical-align: top;\n",
       "    }\n",
       "\n",
       "    .dataframe thead th {\n",
       "        text-align: right;\n",
       "    }\n",
       "</style>\n",
       "<table border=\"1\" class=\"dataframe\">\n",
       "  <thead>\n",
       "    <tr style=\"text-align: right;\">\n",
       "      <th></th>\n",
       "      <th>year</th>\n",
       "      <th>name_id_code</th>\n",
       "      <th>points</th>\n",
       "      <th>penalty</th>\n",
       "      <th>audience</th>\n",
       "    </tr>\n",
       "  </thead>\n",
       "  <tbody>\n",
       "    <tr>\n",
       "      <th>6</th>\n",
       "      <td>2020</td>\n",
       "      <td>1105</td>\n",
       "      <td>90</td>\n",
       "      <td>10</td>\n",
       "      <td>6545</td>\n",
       "    </tr>\n",
       "  </tbody>\n",
       "</table>\n",
       "</div>"
      ],
      "text/plain": [
       "   year  name_id_code  points  penalty  audience\n",
       "6  2020          1105      90       10      6545"
      ]
     },
     "execution_count": 76,
     "metadata": {},
     "output_type": "execute_result"
    }
   ],
   "source": []
  },
  {
   "cell_type": "markdown",
   "id": "1654d7ee",
   "metadata": {},
   "source": [
    "- **새로운 데이터 정의**"
   ]
  },
  {
   "cell_type": "code",
   "execution_count": 77,
   "id": "ea117b9c",
   "metadata": {
    "ExecuteTime": {
     "end_time": "2021-07-25T22:15:24.437367Z",
     "start_time": "2021-07-25T22:15:24.422419Z"
    }
   },
   "outputs": [],
   "source": [
    "data_3 = {\"name_id_code\" : [np.nan, 1305, np.nan, 4854],\n",
    "       \"year\" : [2021, 2021, 2021, 2021],\n",
    "       \"points\" : [80, 85, 70, 75],\n",
    "       \"penalty\" : [0, np.nan, 15, 10],\n",
    "         \"audience\" : [np.nan, 9530, np.nan, 5864]}"
   ]
  },
  {
   "cell_type": "code",
   "execution_count": 78,
   "id": "5b320dd8",
   "metadata": {
    "ExecuteTime": {
     "end_time": "2021-07-25T22:15:24.452322Z",
     "start_time": "2021-07-25T22:15:24.438337Z"
    }
   },
   "outputs": [],
   "source": []
  },
  {
   "cell_type": "code",
   "execution_count": 79,
   "id": "d98cb011",
   "metadata": {
    "ExecuteTime": {
     "end_time": "2021-07-25T22:15:24.468282Z",
     "start_time": "2021-07-25T22:15:24.453296Z"
    },
    "scrolled": true
   },
   "outputs": [
    {
     "data": {
      "text/html": [
       "<div>\n",
       "<style scoped>\n",
       "    .dataframe tbody tr th:only-of-type {\n",
       "        vertical-align: middle;\n",
       "    }\n",
       "\n",
       "    .dataframe tbody tr th {\n",
       "        vertical-align: top;\n",
       "    }\n",
       "\n",
       "    .dataframe thead th {\n",
       "        text-align: right;\n",
       "    }\n",
       "</style>\n",
       "<table border=\"1\" class=\"dataframe\">\n",
       "  <thead>\n",
       "    <tr style=\"text-align: right;\">\n",
       "      <th></th>\n",
       "      <th>year</th>\n",
       "      <th>name_id_code</th>\n",
       "      <th>points</th>\n",
       "      <th>penalty</th>\n",
       "      <th>audience</th>\n",
       "    </tr>\n",
       "  </thead>\n",
       "  <tbody>\n",
       "    <tr>\n",
       "      <th>9</th>\n",
       "      <td>2021</td>\n",
       "      <td>NaN</td>\n",
       "      <td>80</td>\n",
       "      <td>0.0</td>\n",
       "      <td>NaN</td>\n",
       "    </tr>\n",
       "    <tr>\n",
       "      <th>10</th>\n",
       "      <td>2021</td>\n",
       "      <td>1305.0</td>\n",
       "      <td>85</td>\n",
       "      <td>NaN</td>\n",
       "      <td>9530.0</td>\n",
       "    </tr>\n",
       "    <tr>\n",
       "      <th>11</th>\n",
       "      <td>2021</td>\n",
       "      <td>NaN</td>\n",
       "      <td>70</td>\n",
       "      <td>15.0</td>\n",
       "      <td>NaN</td>\n",
       "    </tr>\n",
       "    <tr>\n",
       "      <th>12</th>\n",
       "      <td>2021</td>\n",
       "      <td>4854.0</td>\n",
       "      <td>75</td>\n",
       "      <td>10.0</td>\n",
       "      <td>5864.0</td>\n",
       "    </tr>\n",
       "  </tbody>\n",
       "</table>\n",
       "</div>"
      ],
      "text/plain": [
       "    year  name_id_code  points  penalty  audience\n",
       "9   2021           NaN      80      0.0       NaN\n",
       "10  2021        1305.0      85      NaN    9530.0\n",
       "11  2021           NaN      70     15.0       NaN\n",
       "12  2021        4854.0      75     10.0    5864.0"
      ]
     },
     "execution_count": 79,
     "metadata": {},
     "output_type": "execute_result"
    }
   ],
   "source": []
  },
  {
   "cell_type": "markdown",
   "id": "7f3002ca",
   "metadata": {},
   "source": [
    "- **NaN 확인**"
   ]
  },
  {
   "cell_type": "code",
   "execution_count": 80,
   "id": "413165c1",
   "metadata": {
    "ExecuteTime": {
     "end_time": "2021-07-25T22:15:24.484213Z",
     "start_time": "2021-07-25T22:15:24.469275Z"
    }
   },
   "outputs": [
    {
     "data": {
      "text/html": [
       "<div>\n",
       "<style scoped>\n",
       "    .dataframe tbody tr th:only-of-type {\n",
       "        vertical-align: middle;\n",
       "    }\n",
       "\n",
       "    .dataframe tbody tr th {\n",
       "        vertical-align: top;\n",
       "    }\n",
       "\n",
       "    .dataframe thead th {\n",
       "        text-align: right;\n",
       "    }\n",
       "</style>\n",
       "<table border=\"1\" class=\"dataframe\">\n",
       "  <thead>\n",
       "    <tr style=\"text-align: right;\">\n",
       "      <th></th>\n",
       "      <th>year</th>\n",
       "      <th>name_id_code</th>\n",
       "      <th>points</th>\n",
       "      <th>penalty</th>\n",
       "      <th>audience</th>\n",
       "    </tr>\n",
       "  </thead>\n",
       "  <tbody>\n",
       "    <tr>\n",
       "      <th>9</th>\n",
       "      <td>False</td>\n",
       "      <td>True</td>\n",
       "      <td>False</td>\n",
       "      <td>False</td>\n",
       "      <td>True</td>\n",
       "    </tr>\n",
       "    <tr>\n",
       "      <th>10</th>\n",
       "      <td>False</td>\n",
       "      <td>False</td>\n",
       "      <td>False</td>\n",
       "      <td>True</td>\n",
       "      <td>False</td>\n",
       "    </tr>\n",
       "    <tr>\n",
       "      <th>11</th>\n",
       "      <td>False</td>\n",
       "      <td>True</td>\n",
       "      <td>False</td>\n",
       "      <td>False</td>\n",
       "      <td>True</td>\n",
       "    </tr>\n",
       "    <tr>\n",
       "      <th>12</th>\n",
       "      <td>False</td>\n",
       "      <td>False</td>\n",
       "      <td>False</td>\n",
       "      <td>False</td>\n",
       "      <td>False</td>\n",
       "    </tr>\n",
       "  </tbody>\n",
       "</table>\n",
       "</div>"
      ],
      "text/plain": [
       "     year  name_id_code  points  penalty  audience\n",
       "9   False          True   False    False      True\n",
       "10  False         False   False     True     False\n",
       "11  False          True   False    False      True\n",
       "12  False         False   False    False     False"
      ]
     },
     "execution_count": 80,
     "metadata": {},
     "output_type": "execute_result"
    }
   ],
   "source": []
  },
  {
   "cell_type": "markdown",
   "id": "5160265d",
   "metadata": {},
   "source": [
    "- **NaN 제거**"
   ]
  },
  {
   "cell_type": "code",
   "execution_count": 81,
   "id": "41bedb0c",
   "metadata": {
    "ExecuteTime": {
     "end_time": "2021-07-25T22:15:24.499363Z",
     "start_time": "2021-07-25T22:15:24.485212Z"
    }
   },
   "outputs": [],
   "source": []
  },
  {
   "cell_type": "code",
   "execution_count": 82,
   "id": "9b72bb1a",
   "metadata": {
    "ExecuteTime": {
     "end_time": "2021-07-25T22:15:24.515348Z",
     "start_time": "2021-07-25T22:15:24.500361Z"
    }
   },
   "outputs": [
    {
     "data": {
      "text/html": [
       "<div>\n",
       "<style scoped>\n",
       "    .dataframe tbody tr th:only-of-type {\n",
       "        vertical-align: middle;\n",
       "    }\n",
       "\n",
       "    .dataframe tbody tr th {\n",
       "        vertical-align: top;\n",
       "    }\n",
       "\n",
       "    .dataframe thead th {\n",
       "        text-align: right;\n",
       "    }\n",
       "</style>\n",
       "<table border=\"1\" class=\"dataframe\">\n",
       "  <thead>\n",
       "    <tr style=\"text-align: right;\">\n",
       "      <th></th>\n",
       "      <th>year</th>\n",
       "      <th>name_id_code</th>\n",
       "      <th>points</th>\n",
       "      <th>penalty</th>\n",
       "      <th>audience</th>\n",
       "    </tr>\n",
       "  </thead>\n",
       "  <tbody>\n",
       "    <tr>\n",
       "      <th>12</th>\n",
       "      <td>2021</td>\n",
       "      <td>4854.0</td>\n",
       "      <td>75</td>\n",
       "      <td>10.0</td>\n",
       "      <td>5864.0</td>\n",
       "    </tr>\n",
       "  </tbody>\n",
       "</table>\n",
       "</div>"
      ],
      "text/plain": [
       "    year  name_id_code  points  penalty  audience\n",
       "12  2021        4854.0      75     10.0    5864.0"
      ]
     },
     "execution_count": 82,
     "metadata": {},
     "output_type": "execute_result"
    }
   ],
   "source": []
  },
  {
   "cell_type": "code",
   "execution_count": 83,
   "id": "d7146436",
   "metadata": {
    "ExecuteTime": {
     "end_time": "2021-07-25T22:15:24.530281Z",
     "start_time": "2021-07-25T22:15:24.516318Z"
    },
    "scrolled": false
   },
   "outputs": [
    {
     "data": {
      "text/html": [
       "<div>\n",
       "<style scoped>\n",
       "    .dataframe tbody tr th:only-of-type {\n",
       "        vertical-align: middle;\n",
       "    }\n",
       "\n",
       "    .dataframe tbody tr th {\n",
       "        vertical-align: top;\n",
       "    }\n",
       "\n",
       "    .dataframe thead th {\n",
       "        text-align: right;\n",
       "    }\n",
       "</style>\n",
       "<table border=\"1\" class=\"dataframe\">\n",
       "  <thead>\n",
       "    <tr style=\"text-align: right;\">\n",
       "      <th></th>\n",
       "      <th>year</th>\n",
       "      <th>points</th>\n",
       "    </tr>\n",
       "  </thead>\n",
       "  <tbody>\n",
       "    <tr>\n",
       "      <th>9</th>\n",
       "      <td>2021</td>\n",
       "      <td>80</td>\n",
       "    </tr>\n",
       "    <tr>\n",
       "      <th>10</th>\n",
       "      <td>2021</td>\n",
       "      <td>85</td>\n",
       "    </tr>\n",
       "    <tr>\n",
       "      <th>11</th>\n",
       "      <td>2021</td>\n",
       "      <td>70</td>\n",
       "    </tr>\n",
       "    <tr>\n",
       "      <th>12</th>\n",
       "      <td>2021</td>\n",
       "      <td>75</td>\n",
       "    </tr>\n",
       "  </tbody>\n",
       "</table>\n",
       "</div>"
      ],
      "text/plain": [
       "    year  points\n",
       "9   2021      80\n",
       "10  2021      85\n",
       "11  2021      70\n",
       "12  2021      75"
      ]
     },
     "execution_count": 83,
     "metadata": {},
     "output_type": "execute_result"
    }
   ],
   "source": []
  },
  {
   "cell_type": "markdown",
   "id": "b760f6a7",
   "metadata": {},
   "source": [
    "- **데이터 수정**"
   ]
  },
  {
   "cell_type": "code",
   "execution_count": 84,
   "id": "bfa76bac",
   "metadata": {
    "ExecuteTime": {
     "end_time": "2021-07-25T22:15:24.546265Z",
     "start_time": "2021-07-25T22:15:24.531278Z"
    }
   },
   "outputs": [
    {
     "data": {
      "text/plain": [
       "9        NaN\n",
       "10    1305.0\n",
       "11       NaN\n",
       "12    4854.0\n",
       "Name: name_id_code, dtype: float64"
      ]
     },
     "execution_count": 84,
     "metadata": {},
     "output_type": "execute_result"
    }
   ],
   "source": []
  },
  {
   "cell_type": "code",
   "execution_count": 85,
   "id": "07a5fa8c",
   "metadata": {
    "ExecuteTime": {
     "end_time": "2021-07-25T22:15:24.562223Z",
     "start_time": "2021-07-25T22:15:24.547235Z"
    }
   },
   "outputs": [],
   "source": []
  },
  {
   "cell_type": "code",
   "execution_count": 86,
   "id": "2e9bdfe3",
   "metadata": {
    "ExecuteTime": {
     "end_time": "2021-07-25T22:15:24.576898Z",
     "start_time": "2021-07-25T22:15:24.563193Z"
    },
    "scrolled": true
   },
   "outputs": [
    {
     "data": {
      "text/html": [
       "<div>\n",
       "<style scoped>\n",
       "    .dataframe tbody tr th:only-of-type {\n",
       "        vertical-align: middle;\n",
       "    }\n",
       "\n",
       "    .dataframe tbody tr th {\n",
       "        vertical-align: top;\n",
       "    }\n",
       "\n",
       "    .dataframe thead th {\n",
       "        text-align: right;\n",
       "    }\n",
       "</style>\n",
       "<table border=\"1\" class=\"dataframe\">\n",
       "  <thead>\n",
       "    <tr style=\"text-align: right;\">\n",
       "      <th></th>\n",
       "      <th>year</th>\n",
       "      <th>name_id_code</th>\n",
       "      <th>points</th>\n",
       "      <th>penalty</th>\n",
       "      <th>audience</th>\n",
       "    </tr>\n",
       "  </thead>\n",
       "  <tbody>\n",
       "    <tr>\n",
       "      <th>9</th>\n",
       "      <td>2021</td>\n",
       "      <td>Unknown</td>\n",
       "      <td>80</td>\n",
       "      <td>0.0</td>\n",
       "      <td>NaN</td>\n",
       "    </tr>\n",
       "    <tr>\n",
       "      <th>10</th>\n",
       "      <td>2021</td>\n",
       "      <td>1305.0</td>\n",
       "      <td>85</td>\n",
       "      <td>NaN</td>\n",
       "      <td>9530.0</td>\n",
       "    </tr>\n",
       "    <tr>\n",
       "      <th>11</th>\n",
       "      <td>2021</td>\n",
       "      <td>Unknown</td>\n",
       "      <td>70</td>\n",
       "      <td>15.0</td>\n",
       "      <td>NaN</td>\n",
       "    </tr>\n",
       "    <tr>\n",
       "      <th>12</th>\n",
       "      <td>2021</td>\n",
       "      <td>4854.0</td>\n",
       "      <td>75</td>\n",
       "      <td>10.0</td>\n",
       "      <td>5864.0</td>\n",
       "    </tr>\n",
       "  </tbody>\n",
       "</table>\n",
       "</div>"
      ],
      "text/plain": [
       "    year name_id_code  points  penalty  audience\n",
       "9   2021      Unknown      80      0.0       NaN\n",
       "10  2021       1305.0      85      NaN    9530.0\n",
       "11  2021      Unknown      70     15.0       NaN\n",
       "12  2021       4854.0      75     10.0    5864.0"
      ]
     },
     "execution_count": 86,
     "metadata": {},
     "output_type": "execute_result"
    }
   ],
   "source": []
  },
  {
   "cell_type": "markdown",
   "id": "02d0a7db",
   "metadata": {},
   "source": [
    "- **데이터 합치기**"
   ]
  },
  {
   "cell_type": "code",
   "execution_count": 87,
   "id": "97051381",
   "metadata": {
    "ExecuteTime": {
     "end_time": "2021-07-25T22:15:24.592855Z",
     "start_time": "2021-07-25T22:15:24.577896Z"
    }
   },
   "outputs": [],
   "source": []
  },
  {
   "cell_type": "code",
   "execution_count": 88,
   "id": "ff07ef6a",
   "metadata": {
    "ExecuteTime": {
     "end_time": "2021-07-25T22:15:24.608813Z",
     "start_time": "2021-07-25T22:15:24.593853Z"
    }
   },
   "outputs": [
    {
     "data": {
      "text/html": [
       "<div>\n",
       "<style scoped>\n",
       "    .dataframe tbody tr th:only-of-type {\n",
       "        vertical-align: middle;\n",
       "    }\n",
       "\n",
       "    .dataframe tbody tr th {\n",
       "        vertical-align: top;\n",
       "    }\n",
       "\n",
       "    .dataframe thead th {\n",
       "        text-align: right;\n",
       "    }\n",
       "</style>\n",
       "<table border=\"1\" class=\"dataframe\">\n",
       "  <thead>\n",
       "    <tr style=\"text-align: right;\">\n",
       "      <th></th>\n",
       "      <th>year</th>\n",
       "      <th>name_id_code</th>\n",
       "      <th>points</th>\n",
       "      <th>penalty</th>\n",
       "      <th>audience</th>\n",
       "    </tr>\n",
       "  </thead>\n",
       "  <tbody>\n",
       "    <tr>\n",
       "      <th>1</th>\n",
       "      <td>2017</td>\n",
       "      <td>0</td>\n",
       "      <td>10</td>\n",
       "      <td>1.0</td>\n",
       "      <td>3543.0</td>\n",
       "    </tr>\n",
       "    <tr>\n",
       "      <th>2</th>\n",
       "      <td>2018</td>\n",
       "      <td>105</td>\n",
       "      <td>15</td>\n",
       "      <td>2.0</td>\n",
       "      <td>4436.0</td>\n",
       "    </tr>\n",
       "    <tr>\n",
       "      <th>3</th>\n",
       "      <td>2019</td>\n",
       "      <td>12</td>\n",
       "      <td>30</td>\n",
       "      <td>5.0</td>\n",
       "      <td>3321.0</td>\n",
       "    </tr>\n",
       "    <tr>\n",
       "      <th>4</th>\n",
       "      <td>2020</td>\n",
       "      <td>130</td>\n",
       "      <td>5</td>\n",
       "      <td>0.0</td>\n",
       "      <td>2432.0</td>\n",
       "    </tr>\n",
       "    <tr>\n",
       "      <th>5</th>\n",
       "      <td>2020</td>\n",
       "      <td>1000</td>\n",
       "      <td>100</td>\n",
       "      <td>5.0</td>\n",
       "      <td>3252.0</td>\n",
       "    </tr>\n",
       "    <tr>\n",
       "      <th>6</th>\n",
       "      <td>2020</td>\n",
       "      <td>1105</td>\n",
       "      <td>90</td>\n",
       "      <td>10.0</td>\n",
       "      <td>6545.0</td>\n",
       "    </tr>\n",
       "    <tr>\n",
       "      <th>7</th>\n",
       "      <td>2020</td>\n",
       "      <td>998</td>\n",
       "      <td>60</td>\n",
       "      <td>5.0</td>\n",
       "      <td>2342.0</td>\n",
       "    </tr>\n",
       "    <tr>\n",
       "      <th>8</th>\n",
       "      <td>2021</td>\n",
       "      <td>1001</td>\n",
       "      <td>55</td>\n",
       "      <td>5.0</td>\n",
       "      <td>7754.0</td>\n",
       "    </tr>\n",
       "    <tr>\n",
       "      <th>9</th>\n",
       "      <td>2021</td>\n",
       "      <td>Unknown</td>\n",
       "      <td>80</td>\n",
       "      <td>0.0</td>\n",
       "      <td>NaN</td>\n",
       "    </tr>\n",
       "    <tr>\n",
       "      <th>10</th>\n",
       "      <td>2021</td>\n",
       "      <td>1305.0</td>\n",
       "      <td>85</td>\n",
       "      <td>NaN</td>\n",
       "      <td>9530.0</td>\n",
       "    </tr>\n",
       "    <tr>\n",
       "      <th>11</th>\n",
       "      <td>2021</td>\n",
       "      <td>Unknown</td>\n",
       "      <td>70</td>\n",
       "      <td>15.0</td>\n",
       "      <td>NaN</td>\n",
       "    </tr>\n",
       "    <tr>\n",
       "      <th>12</th>\n",
       "      <td>2021</td>\n",
       "      <td>4854.0</td>\n",
       "      <td>75</td>\n",
       "      <td>10.0</td>\n",
       "      <td>5864.0</td>\n",
       "    </tr>\n",
       "  </tbody>\n",
       "</table>\n",
       "</div>"
      ],
      "text/plain": [
       "    year name_id_code  points  penalty  audience\n",
       "1   2017            0      10      1.0    3543.0\n",
       "2   2018          105      15      2.0    4436.0\n",
       "3   2019           12      30      5.0    3321.0\n",
       "4   2020          130       5      0.0    2432.0\n",
       "5   2020         1000     100      5.0    3252.0\n",
       "6   2020         1105      90     10.0    6545.0\n",
       "7   2020          998      60      5.0    2342.0\n",
       "8   2021         1001      55      5.0    7754.0\n",
       "9   2021      Unknown      80      0.0       NaN\n",
       "10  2021       1305.0      85      NaN    9530.0\n",
       "11  2021      Unknown      70     15.0       NaN\n",
       "12  2021       4854.0      75     10.0    5864.0"
      ]
     },
     "execution_count": 88,
     "metadata": {},
     "output_type": "execute_result"
    }
   ],
   "source": []
  },
  {
   "cell_type": "markdown",
   "id": "3ad9cf20",
   "metadata": {},
   "source": [
    "## 2.4. Practice"
   ]
  },
  {
   "cell_type": "markdown",
   "id": "cfdd56a5",
   "metadata": {},
   "source": [
    "- name_id_code 열 삭제\n",
    "- 2021년도 audience의 NaN값을 2020년도 audience 평균 값으로 사용\n",
    "- 2021년도 중 points가 75이상, 80점 이하 정보만 추출"
   ]
  },
  {
   "cell_type": "code",
   "execution_count": 94,
   "id": "45f7cae9",
   "metadata": {
    "ExecuteTime": {
     "end_time": "2021-07-25T22:15:24.702619Z",
     "start_time": "2021-07-25T22:15:24.688628Z"
    }
   },
   "outputs": [
    {
     "data": {
      "text/html": [
       "<div>\n",
       "<style scoped>\n",
       "    .dataframe tbody tr th:only-of-type {\n",
       "        vertical-align: middle;\n",
       "    }\n",
       "\n",
       "    .dataframe tbody tr th {\n",
       "        vertical-align: top;\n",
       "    }\n",
       "\n",
       "    .dataframe thead th {\n",
       "        text-align: right;\n",
       "    }\n",
       "</style>\n",
       "<table border=\"1\" class=\"dataframe\">\n",
       "  <thead>\n",
       "    <tr style=\"text-align: right;\">\n",
       "      <th></th>\n",
       "      <th>year</th>\n",
       "      <th>points</th>\n",
       "      <th>penalty</th>\n",
       "      <th>audience</th>\n",
       "    </tr>\n",
       "  </thead>\n",
       "  <tbody>\n",
       "    <tr>\n",
       "      <th>9</th>\n",
       "      <td>2021</td>\n",
       "      <td>80</td>\n",
       "      <td>0.0</td>\n",
       "      <td>3642.75</td>\n",
       "    </tr>\n",
       "    <tr>\n",
       "      <th>12</th>\n",
       "      <td>2021</td>\n",
       "      <td>75</td>\n",
       "      <td>10.0</td>\n",
       "      <td>5864.00</td>\n",
       "    </tr>\n",
       "  </tbody>\n",
       "</table>\n",
       "</div>"
      ],
      "text/plain": [
       "    year  points  penalty  audience\n",
       "9   2021      80      0.0   3642.75\n",
       "12  2021      75     10.0   5864.00"
      ]
     },
     "execution_count": 94,
     "metadata": {},
     "output_type": "execute_result"
    }
   ],
   "source": []
  },
  {
   "cell_type": "markdown",
   "id": "2858784d",
   "metadata": {},
   "source": [
    "# 3. Matplotlib"
   ]
  },
  {
   "cell_type": "code",
   "execution_count": 2,
   "id": "d95bf682",
   "metadata": {
    "ExecuteTime": {
     "end_time": "2021-07-25T22:15:25.049687Z",
     "start_time": "2021-07-25T22:15:24.703617Z"
    }
   },
   "outputs": [],
   "source": [
    "import matplotlib.pyplot as plt"
   ]
  },
  {
   "cell_type": "markdown",
   "id": "57dc7ef1",
   "metadata": {},
   "source": [
    "<img src=\"./image_files/anatomy.PNG\" width = 500>"
   ]
  },
  {
   "cell_type": "code",
   "execution_count": 4,
   "id": "d6669526",
   "metadata": {
    "ExecuteTime": {
     "end_time": "2021-07-25T22:15:25.065648Z",
     "start_time": "2021-07-25T22:15:25.050661Z"
    }
   },
   "outputs": [],
   "source": [
    "x = [1, 2, 3, 4, 5]\n",
    "y = [1, 4, 9, 16, 25]"
   ]
  },
  {
   "cell_type": "markdown",
   "id": "6d32cd9e",
   "metadata": {},
   "source": [
    "- **Basic**"
   ]
  },
  {
   "cell_type": "code",
   "execution_count": 5,
   "id": "c9e3a4ee",
   "metadata": {
    "ExecuteTime": {
     "end_time": "2021-07-25T22:15:25.176324Z",
     "start_time": "2021-07-25T22:15:25.066652Z"
    }
   },
   "outputs": [
    {
     "data": {
      "text/plain": [
       "<function matplotlib.pyplot.show(close=None, block=None)>"
      ]
     },
     "execution_count": 5,
     "metadata": {},
     "output_type": "execute_result"
    },
    {
     "data": {
      "image/png": "[encoded data removed]",
      "text/plain": [
       "<Figure size 432x288 with 1 Axes>"
      ]
     },
     "metadata": {
      "needs_background": "light"
     },
     "output_type": "display_data"
    }
   ],
   "source": [
    "plt.plot(x, y)\n",
    "plt.show"
   ]
  },
  {
   "cell_type": "code",
   "execution_count": 10,
   "id": "8d02289e",
   "metadata": {
    "ExecuteTime": {
     "end_time": "2021-07-25T22:15:25.287028Z",
     "start_time": "2021-07-25T22:15:25.177322Z"
    }
   },
   "outputs": [
    {
     "data": {
      "image/png": "[encoded data removed]",
      "text/plain": [
       "<Figure size 720x720 with 1 Axes>"
      ]
     },
     "metadata": {
      "needs_background": "light"
     },
     "output_type": "display_data"
    }
   ],
   "source": [
    "plt.figure(figsize=(10,10))\n",
    "plt.plot(x,y)\n",
    "plt.xlabel('x_label')\n",
    "plt.ylabel('y_label')\n",
    "plt.axis([0, 6, 0, 30])\n",
    "plt.show()"
   ]
  },
  {
   "cell_type": "markdown",
   "id": "f9e71216",
   "metadata": {},
   "source": [
    "- **Marker**"
   ]
  },
  {
   "cell_type": "markdown",
   "id": "a3fb371e",
   "metadata": {},
   "source": [
    "선/마커 표시 형식에 대한 예시는 아래와 같다."
   ]
  },
  {
   "cell_type": "markdown",
   "id": "1bc4be6f",
   "metadata": {},
   "source": [
    "<img src=\"./image_files/set_marker.PNG\" width = 700>"
   ]
  },
  {
   "cell_type": "code",
   "execution_count": 99,
   "id": "6cef6660",
   "metadata": {
    "ExecuteTime": {
     "end_time": "2021-07-25T22:15:25.302985Z",
     "start_time": "2021-07-25T22:15:25.288026Z"
    }
   },
   "outputs": [],
   "source": [
    "x = np.arange(0, 5, 0.2)"
   ]
  },
  {
   "cell_type": "code",
   "execution_count": 100,
   "id": "0a3be381",
   "metadata": {
    "ExecuteTime": {
     "end_time": "2021-07-25T22:15:25.396763Z",
     "start_time": "2021-07-25T22:15:25.303995Z"
    }
   },
   "outputs": [
    {
     "data": {
      "image/png": "[encoded data removed]",
      "text/plain": [
       "<Figure size 432x288 with 1 Axes>"
      ]
     },
     "metadata": {
      "needs_background": "light"
     },
     "output_type": "display_data"
    }
   ],
   "source": []
  },
  {
   "cell_type": "code",
   "execution_count": 101,
   "id": "7e1eb3d5",
   "metadata": {
    "ExecuteTime": {
     "end_time": "2021-07-25T22:15:25.491481Z",
     "start_time": "2021-07-25T22:15:25.397732Z"
    }
   },
   "outputs": [
    {
     "data": {
      "image/png": "[encoded data removed]",
      "text/plain": [
       "<Figure size 432x288 with 1 Axes>"
      ]
     },
     "metadata": {
      "needs_background": "light"
     },
     "output_type": "display_data"
    }
   ],
   "source": []
  },
  {
   "cell_type": "markdown",
   "id": "adbbc14b",
   "metadata": {},
   "source": [
    "- **Subplots**"
   ]
  },
  {
   "cell_type": "markdown",
   "id": "6b1e9797",
   "metadata": {},
   "source": [
    "하나의 figure 내에 여러 개의 Subplot을 시각화 할 수 있다."
   ]
  },
  {
   "cell_type": "markdown",
   "id": "cec8dd9f",
   "metadata": {},
   "source": [
    "<img src=\"./image_files/subplots.PNG\" width = 500>"
   ]
  },
  {
   "cell_type": "code",
   "execution_count": 102,
   "id": "fdd71174",
   "metadata": {
    "ExecuteTime": {
     "end_time": "2021-07-25T22:15:25.507439Z",
     "start_time": "2021-07-25T22:15:25.492479Z"
    }
   },
   "outputs": [],
   "source": []
  },
  {
   "cell_type": "code",
   "execution_count": 103,
   "id": "010ffdae",
   "metadata": {
    "ExecuteTime": {
     "end_time": "2021-07-25T22:15:25.680974Z",
     "start_time": "2021-07-25T22:15:25.508437Z"
    }
   },
   "outputs": [
    {
     "data": {
      "image/png": "[encoded data removed]",
      "text/plain": [
       "<Figure size 432x288 with 2 Axes>"
      ]
     },
     "metadata": {
      "needs_background": "light"
     },
     "output_type": "display_data"
    }
   ],
   "source": []
  },
  {
   "cell_type": "markdown",
   "id": "d468dfdd",
   "metadata": {},
   "source": [
    "## 3.1. Practice"
   ]
  },
  {
   "cell_type": "code",
   "execution_count": 104,
   "id": "ce3fe0d8",
   "metadata": {
    "ExecuteTime": {
     "end_time": "2021-07-25T22:15:25.902410Z",
     "start_time": "2021-07-25T22:15:25.681972Z"
    }
   },
   "outputs": [
    {
     "data": {
      "image/png": "[encoded data removed]",
      "text/plain": [
       "<Figure size 720x576 with 2 Axes>"
      ]
     },
     "metadata": {
      "needs_background": "light"
     },
     "output_type": "display_data"
    }
   ],
   "source": [
    "x = np.arange(0, 5, 0.2)\n",
    "y_sin = np.sin(x)\n",
    "y_cos = np.cos(x)\n",
    "\n",
    "plt.figure(figsize=(10, 8))"
   ]
  }
 ],
 "metadata": {
  "kernelspec": {
   "display_name": "Python 3",
   "language": "python",
   "name": "python3"
  },
  "language_info": {
   "codemirror_mode": {
    "name": "ipython",
    "version": 3
   },
   "file_extension": ".py",
   "mimetype": "text/x-python",
   "name": "python",
   "nbconvert_exporter": "python",
   "pygments_lexer": "ipython3",
   "version": "3.8.8"
  },
  "toc": {
   "base_numbering": 1,
   "nav_menu": {},
   "number_sections": false,
   "sideBar": true,
   "skip_h1_title": false,
   "title_cell": "Table of Contents",
   "title_sidebar": "Contents",
   "toc_cell": true,
   "toc_position": {
    "height": "calc(100% - 180px)",
    "left": "10px",
    "top": "150px",
    "width": "216px"
   },
   "toc_section_display": true,
   "toc_window_display": true
  }
 },
 "nbformat": 4,
 "nbformat_minor": 5
}
