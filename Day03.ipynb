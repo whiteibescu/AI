{
  "nbformat": 4,
  "nbformat_minor": 0,
  "metadata": {
    "colab": {
      "name": "Day03.ipynb",
      "provenance": [],
      "authorship_tag": "ABX9TyPCJJRcvm3gzGnwDbyXsBVh",
      "include_colab_link": true
    },
    "kernelspec": {
      "name": "python3",
      "display_name": "Python 3"
    },
    "language_info": {
      "name": "python"
    }
  },
  "cells": [
    {
      "cell_type": "markdown",
      "metadata": {
        "id": "view-in-github",
        "colab_type": "text"
      },
      "source": [
        "<a href=\"https://colab.research.google.com/github/whiteibescu/AI/blob/main/Day03.ipynb\" target=\"_parent\"><img src=\"https://colab.research.google.com/assets/colab-badge.svg\" alt=\"Open In Colab\"/></a>"
      ]
    },
    {
      "cell_type": "code",
      "metadata": {
        "id": "Zip3nog8jweI"
      },
      "source": [
        "import numpy as np\n",
        "import tensorflow as tf\n",
        "from tensorflow.keras.models import Sequential\n",
        "from tensorflow.keras.layers import Conv2D, MaxPool2D, Flatten, Dense, Dropout\n",
        "import matplotlib.pyplot as plt"
      ],
      "execution_count": 12,
      "outputs": []
    },
    {
      "cell_type": "code",
      "metadata": {
        "colab": {
          "base_uri": "https://localhost:8080/"
        },
        "id": "0eyOBCMbkEBJ",
        "outputId": "423bb05a-6786-4d88-bf86-8b76d10c59cd"
      },
      "source": [
        "(x_train, y_train), (x_test, y_test) = tf.keras.datasets.fashion_mnist.load_data()\n",
        "print(x_train.shape)\n",
        "\n",
        "x_train, x_test = x_train.astype('float32')/255 , x_test.astype('float32')/255\n"
      ],
      "execution_count": 7,
      "outputs": [
        {
          "output_type": "stream",
          "text": [
            "(60000, 28, 28)\n"
          ],
          "name": "stdout"
        }
      ]
    },
    {
      "cell_type": "code",
      "metadata": {
        "colab": {
          "base_uri": "https://localhost:8080/",
          "height": 1000
        },
        "id": "lTM3bahSkhnv",
        "outputId": "4a70b3c6-6eee-4c9d-c217-1c9c27e8d7dc"
      },
      "source": [
        "for i in range(5):\n",
        "  plt.imshow(x_train[i])\n",
        "  plt.show()\n",
        "  print(\"label :%i\" % y_train[i])"
      ],
      "execution_count": 16,
      "outputs": [
        {
          "output_type": "display_data",
          "data": {
            "image/png": "[encoded data removed]",
            "text/plain": [
              "<Figure size 432x288 with 1 Axes>"
            ]
          },
          "metadata": {
            "tags": [],
            "needs_background": "light"
          }
        },
        {
          "output_type": "stream",
          "text": [
            "label :9\n"
          ],
          "name": "stdout"
        },
        {
          "output_type": "display_data",
          "data": {
            "image/png": "[encoded data removed]",
            "text/plain": [
              "<Figure size 432x288 with 1 Axes>"
            ]
          },
          "metadata": {
            "tags": [],
            "needs_background": "light"
          }
        },
        {
          "output_type": "stream",
          "text": [
            "label :0\n"
          ],
          "name": "stdout"
        },
        {
          "output_type": "display_data",
          "data": {
            "image/png": "[encoded data removed]",
            "text/plain": [
              "<Figure size 432x288 with 1 Axes>"
            ]
          },
          "metadata": {
            "tags": [],
            "needs_background": "light"
          }
        },
        {
          "output_type": "stream",
          "text": [
            "label :0\n"
          ],
          "name": "stdout"
        },
        {
          "output_type": "display_data",
          "data": {
            "image/png": "[encoded data removed]",
            "text/plain": [
              "<Figure size 432x288 with 1 Axes>"
            ]
          },
          "metadata": {
            "tags": [],
            "needs_background": "light"
          }
        },
        {
          "output_type": "stream",
          "text": [
            "label :3\n"
          ],
          "name": "stdout"
        },
        {
          "output_type": "display_data",
          "data": {
            "image/png": "[encoded data removed]",
            "text/plain": [
              "<Figure size 432x288 with 1 Axes>"
            ]
          },
          "metadata": {
            "tags": [],
            "needs_background": "light"
          }
        },
        {
          "output_type": "stream",
          "text": [
            "label :0\n"
          ],
          "name": "stdout"
        }
      ]
    },
    {
      "cell_type": "code",
      "metadata": {
        "colab": {
          "base_uri": "https://localhost:8080/"
        },
        "id": "3QJ-l9AWk8eD",
        "outputId": "4ade5b2a-e2b7-4f60-e144-03b44ec7e727"
      },
      "source": [
        "x_train = tf.reshape(x_train, [-1, 28, 28, 1])\n",
        "x_test = tf.reshape(x_test, [-1, 28, 28, 1])\n",
        "print(x_train.shape, x_test.shape)\n",
        "\n",
        "# from sklearn.model_selection import train_test_split\n",
        "\n",
        "# x_train, x_valid, y_train, y_valid = train_test_split(x_train, y_train, test_size=1/6, shuffle = True, stratify = y_train, random_state=34)\n",
        "# print(x_train.shape, x_valid.shape, y_train.shape, y_valid.shape)\n",
        "\n",
        "layer1 = Conv2D(input_shape = (28,28,1), kernel_size = (3,3), filters = 32, activation = 'relu')\n",
        "layer2 = Conv2D(kernel_size = (3,3), filters = 64, activation = 'relu')\n",
        "layer3 = MaxPool2D(pool_size=(2,2))\n",
        "layer4 = Conv2D(kernel_size = (3,3), filters = 64, activation = 'relu')\n",
        "layer5 = Conv2D(kernel_size = (3,3), filters = 64, activation = 'relu')\n",
        "layer6 = MaxPool2D(pool_size=(2,2))\n",
        "layer7 = Dropout(0.25)\n",
        "layer8 = Flatten()\n",
        "layer9 = Dense(64, activation='relu')\n",
        "layer10 = Dropout(0.2)\n",
        "layer11 = Dense(10, activation = 'softmax')\n",
        "\n",
        "cnn = Sequential([layer1, layer2, layer3, layer4, layer5, layer6, layer7, layer8, layer9, layer10, layer11])"
      ],
      "execution_count": 23,
      "outputs": [
        {
          "output_type": "stream",
          "text": [
            "(60000, 28, 28, 1) (10000, 28, 28, 1)\n"
          ],
          "name": "stdout"
        }
      ]
    },
    {
      "cell_type": "code",
      "metadata": {
        "colab": {
          "base_uri": "https://localhost:8080/"
        },
        "id": "8iCoEL71ow1c",
        "outputId": "bcff1a63-5c4a-4ccf-ef49-c6341be62410"
      },
      "source": [
        "cnn.compile(loss= \"sparse_catergorical_crossentropy\", optimizer = tf.keras.optimizers.Adam(), metrics = ['accuracy'])\n",
        "cnn.summary()"
      ],
      "execution_count": 24,
      "outputs": [
        {
          "output_type": "stream",
          "text": [
            "Model: \"sequential\"\n",
            "_________________________________________________________________\n",
            "Layer (type)                 Output Shape              Param #   \n",
            "=================================================================\n",
            "conv2d_9 (Conv2D)            (None, 26, 26, 32)        320       \n",
            "_________________________________________________________________\n",
            "conv2d_10 (Conv2D)           (None, 24, 24, 64)        18496     \n",
            "_________________________________________________________________\n",
            "max_pooling2d_5 (MaxPooling2 (None, 12, 12, 64)        0         \n",
            "_________________________________________________________________\n",
            "conv2d_11 (Conv2D)           (None, 10, 10, 64)        36928     \n",
            "_________________________________________________________________\n",
            "conv2d_12 (Conv2D)           (None, 8, 8, 64)          36928     \n",
            "_________________________________________________________________\n",
            "max_pooling2d_6 (MaxPooling2 (None, 4, 4, 64)          0         \n",
            "_________________________________________________________________\n",
            "dropout_2 (Dropout)          (None, 4, 4, 64)          0         \n",
            "_________________________________________________________________\n",
            "flatten_1 (Flatten)          (None, 1024)              0         \n",
            "_________________________________________________________________\n",
            "dense_2 (Dense)              (None, 64)                65600     \n",
            "_________________________________________________________________\n",
            "dropout_3 (Dropout)          (None, 64)                0         \n",
            "_________________________________________________________________\n",
            "dense_3 (Dense)              (None, 10)                650       \n",
            "=================================================================\n",
            "Total params: 158,922\n",
            "Trainable params: 158,922\n",
            "Non-trainable params: 0\n",
            "_________________________________________________________________\n"
          ],
          "name": "stdout"
        }
      ]
    },
    {
      "cell_type": "code",
      "metadata": {
        "id": "ySMz2su7pg8_"
      },
      "source": [
        ""
      ],
      "execution_count": null,
      "outputs": []
    }
  ]
}