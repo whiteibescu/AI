{
  "nbformat": 4,
  "nbformat_minor": 0,
  "metadata": {
    "colab": {
      "name": "Untitled1.ipynb",
      "provenance": [],
      "authorship_tag": "ABX9TyO5/4AX2kQo9C+KydKO8mXg",
      "include_colab_link": true
    },
    "kernelspec": {
      "name": "python3",
      "display_name": "Python 3"
    },
    "language_info": {
      "name": "python"
    }
  },
  "cells": [
    {
      "cell_type": "markdown",
      "metadata": {
        "id": "view-in-github",
        "colab_type": "text"
      },
      "source": [
        "<a href=\"https://colab.research.google.com/github/whiteibescu/AI/blob/main/MachineLearningDay01.ipynb\" target=\"_parent\"><img src=\"https://colab.research.google.com/assets/colab-badge.svg\" alt=\"Open In Colab\"/></a>"
      ]
    },
    {
      "cell_type": "code",
      "metadata": {
        "colab": {
          "base_uri": "https://localhost:8080/"
        },
        "id": "lyC-NRL7K3XY",
        "outputId": "dc4c5833-b082-4a0c-c26d-ad10f274b5d0"
      },
      "source": [
        "import tensorflow as tf\n",
        "import numpy as np\n",
        "import random\n",
        "import matplotlib.pyplot as plt\n",
        "\n",
        "random.seed(1)\n",
        "np.random.seed(1)\n",
        "tf.random.set_seed(1)\n",
        "\n",
        "x_0 = tf.random.normal([20], 3, 1)\n",
        "x_1 = tf.random.normal([20], 5.5, 1)\n",
        "y_0 = tf.zeros(20)\n",
        "y_1 = tf.ones(20)\n",
        "\n",
        "# 40개씩 붙여줌\n",
        "x = tf.concat([x_0,x_1],0)\n",
        "y = tf.concat([y_0,y_1],0)\n",
        "\n",
        "print(x.shape)\n",
        "print(y.shape)\n",
        "print(x_0.shape)\n",
        "print(x)\n",
        "print(y)"
      ],
      "execution_count": 31,
      "outputs": [
        {
          "output_type": "stream",
          "text": [
            "(40,)\n",
            "(40,)\n",
            "(20,)\n",
            "tf.Tensor(\n",
            "[1.8987797 4.5457516 3.383644  2.1203423 1.7753278 2.018879  3.087808\n",
            " 2.7967396 2.4418437 2.279456  2.3740077 2.284974  2.6516457 2.66353\n",
            " 3.1825757 4.1085954 4.279659  2.9785242 2.6803112 3.3733256 5.903088\n",
            " 4.411979  5.4369044 6.8365564 6.21176   5.0107136 4.735779  4.4627514\n",
            " 4.248066  5.5212245 4.948624  3.7568302 5.164639  4.4573326 6.509138\n",
            " 6.7362537 4.816311  6.173609  5.079377  4.4586973], shape=(40,), dtype=float32)\n",
            "tf.Tensor(\n",
            "[0. 0. 0. 0. 0. 0. 0. 0. 0. 0. 0. 0. 0. 0. 0. 0. 0. 0. 0. 0. 1. 1. 1. 1.\n",
            " 1. 1. 1. 1. 1. 1. 1. 1. 1. 1. 1. 1. 1. 1. 1. 1.], shape=(40,), dtype=float32)\n"
          ],
          "name": "stdout"
        }
      ]
    },
    {
      "cell_type": "code",
      "metadata": {
        "id": "CyaIDu8ALB7g"
      },
      "source": [
        "def plot_graph(X, Y, X_hat=None, Y_hat=None, str_title=None):\n",
        "    fig = plt.figure(figsize=(8,6))\n",
        "    if str_title is not None :\n",
        "        plt.title(str_title, fontsize = 20, pad = 20)\n",
        "        \n",
        "    plt.plot(X, Y, ls='none', marker='o')\n",
        "    \n",
        "    if X_hat is not None and Y_hat is not None:\n",
        "        plt.plot(X_hat, Y_hat)\n",
        "        \n",
        "    plt.tick_params(axis='both', labelsize=14)"
      ],
      "execution_count": 32,
      "outputs": []
    },
    {
      "cell_type": "code",
      "metadata": {
        "colab": {
          "base_uri": "https://localhost:8080/",
          "height": 413
        },
        "id": "ChvC_7ojLmdZ",
        "outputId": "44505f7c-69ae-4818-c721-0ca8c5d7ca07"
      },
      "source": [
        "plot_graph(x,y,str_title='dataset')"
      ],
      "execution_count": 33,
      "outputs": [
        {
          "output_type": "display_data",
          "data": {
            "image/png": "[encoded data removed]",
            "text/plain": [
              "<Figure size 576x432 with 1 Axes>"
            ]
          },
          "metadata": {
            "tags": [],
            "needs_background": "light"
          }
        }
      ]
    },
    {
      "cell_type": "code",
      "metadata": {
        "id": "MpmhLPN3REQU"
      },
      "source": [
        "w = tf.Variable(tf.random_normal_initializer(stddev=1)([1]))\n",
        "b = tf.Variable(tf.random_normal_initializer(stddev=1)([1]))\n",
        "                \n",
        "def cross_entropy(y_pred, y_true):\n",
        "    # 1e-9: log0은 정의 되지 않으므로 0에 가까운 값으로 주로 사용 / 1. : 0.9999란 의미\n",
        "    y_pred = tf.clip_by_value(y_pred, 1e-9, 1.)\n",
        "    return -tf.reduce_sum(y_true*tf.math.log(y_pred)+(1-y_true)*(tf.math.log(1-y_pred)))"
      ],
      "execution_count": 37,
      "outputs": []
    },
    {
      "cell_type": "code",
      "metadata": {
        "id": "hXTFFA2VRrCl"
      },
      "source": [
        "lr = 0.001\n",
        "optimizer = tf.optimizers.SGD(lr)\n",
        "\n",
        "def run_optimization():\n",
        "    with tf.GradientTape() as g:\n",
        "        # 예상한 값\n",
        "        pred = 1/(1+tf.exp(-1*(w*x+b)))\n",
        "        loss = cross_entropy(pred,y)\n",
        "        \n",
        "    gradients  = g.gradient(loss, [w,b])\n",
        "    optimizer.apply_gradients(zip(gradients,[w,b]))"
      ],
      "execution_count": 38,
      "outputs": []
    },
    {
      "cell_type": "code",
      "metadata": {
        "colab": {
          "base_uri": "https://localhost:8080/",
          "height": 413
        },
        "id": "1JgrdYwbVvDc",
        "outputId": "7424be05-964a-442c-a480-24dac4c9b7ea"
      },
      "source": [
        "x_fl = np.linspace(np.min(x), np.max(x), 100)\n",
        "plot_graph(x, y, X_hat=x_fl, Y_hat=1/(1+tf.exp(-1*(w*x_fl+b))), str_title = 'Logistic_Regression')"
      ],
      "execution_count": 39,
      "outputs": [
        {
          "output_type": "display_data",
          "data": {
            "image/png": "[encoded data removed]",
            "text/plain": [
              "<Figure size 576x432 with 1 Axes>"
            ]
          },
          "metadata": {
            "tags": [],
            "needs_background": "light"
          }
        }
      ]
    },
    {
      "cell_type": "code",
      "metadata": {
        "colab": {
          "base_uri": "https://localhost:8080/"
        },
        "id": "c08QZ6GPV6lD",
        "outputId": "19f7a1b2-ba56-4c99-cd06-07b4e7e2e745"
      },
      "source": [
        "training_steps = 1000\n",
        "display_step = 50\n",
        "end_step = 0\n",
        "for step in range(1, training_steps+1):\n",
        "    run_optimization()\n",
        "    \n",
        "    if step% display_step == 0:\n",
        "        pred = 1/(1+tf.exp(-1*(w*x+b)))\n",
        "        loss = cross_entropy(pred, y)\n",
        "        print(\"step: \", step, \", loss: \", loss.numpy())\n",
        "        \n",
        "end_step = step"
      ],
      "execution_count": 40,
      "outputs": [
        {
          "output_type": "stream",
          "text": [
            "step:  50 , loss:  19.74004\n",
            "step:  100 , loss:  19.080261\n",
            "step:  150 , loss:  18.47778\n",
            "step:  200 , loss:  17.926277\n",
            "step:  250 , loss:  17.420212\n",
            "step:  300 , loss:  16.9547\n",
            "step:  350 , loss:  16.525467\n",
            "step:  400 , loss:  16.128746\n",
            "step:  450 , loss:  15.761232\n",
            "step:  500 , loss:  15.420025\n",
            "step:  550 , loss:  15.10255\n",
            "step:  600 , loss:  14.80655\n",
            "step:  650 , loss:  14.53002\n",
            "step:  700 , loss:  14.271181\n",
            "step:  750 , loss:  14.028462\n",
            "step:  800 , loss:  13.800457\n",
            "step:  850 , loss:  13.585911\n",
            "step:  900 , loss:  13.383705\n",
            "step:  950 , loss:  13.192837\n",
            "step:  1000 , loss:  13.0124\n"
          ],
          "name": "stdout"
        }
      ]
    },
    {
      "cell_type": "code",
      "metadata": {
        "colab": {
          "base_uri": "https://localhost:8080/",
          "height": 413
        },
        "id": "zb5YWKA7V6tw",
        "outputId": "583bbcbd-457d-4c98-aaf6-46b79d5c1f5d"
      },
      "source": [
        "x_fl = np.linspace(np.min(x), np.max(x), 100)\n",
        "plot_graph(x, y, X_hat=x_fl, Y_hat=1/(1+tf.exp(-1*(w*x_fl+b))), str_title = 'Logistic_Regression')"
      ],
      "execution_count": 41,
      "outputs": [
        {
          "output_type": "display_data",
          "data": {
            "image/png": "[encoded data removed]",
            "text/plain": [
              "<Figure size 576x432 with 1 Axes>"
            ]
          },
          "metadata": {
            "tags": [],
            "needs_background": "light"
          }
        }
      ]
    },
    {
      "cell_type": "code",
      "metadata": {
        "colab": {
          "base_uri": "https://localhost:8080/"
        },
        "id": "4Dn_t5DgX50T",
        "outputId": "968fd81c-3d63-484a-dcf9-330479e993f1"
      },
      "source": [
        "training_steps = 10000\n",
        "display_step = 500\n",
        "\n",
        "for step in range(end_step + 1, end_step + training_steps + 1):\n",
        "    run_optimization()\n",
        "    \n",
        "    if step% display_step == 0:\n",
        "        pred = 1/(1+tf.exp(-1*(w*x+b)))\n",
        "        loss = cross_entropy(pred, y)\n",
        "        print(\"step: \", step, \", loss: \", loss.numpy())\n",
        "        \n",
        "end_step = step"
      ],
      "execution_count": 42,
      "outputs": [
        {
          "output_type": "stream",
          "text": [
            "step:  1500 , loss:  11.6364155\n",
            "step:  2000 , loss:  10.751654\n",
            "step:  2500 , loss:  10.136191\n",
            "step:  3000 , loss:  9.683735\n",
            "step:  3500 , loss:  9.33733\n",
            "step:  4000 , loss:  9.063783\n",
            "step:  4500 , loss:  8.842442\n",
            "step:  5000 , loss:  8.6598015\n",
            "step:  5500 , loss:  8.506643\n",
            "step:  6000 , loss:  8.376473\n",
            "step:  6500 , loss:  8.264568\n",
            "step:  7000 , loss:  8.167417\n",
            "step:  7500 , loss:  8.082356\n",
            "step:  8000 , loss:  8.007324\n",
            "step:  8500 , loss:  7.940705\n",
            "step:  9000 , loss:  7.8812075\n",
            "step:  9500 , loss:  7.827793\n",
            "step:  10000 , loss:  7.7796154\n",
            "step:  10500 , loss:  7.735975\n",
            "step:  11000 , loss:  7.696291\n"
          ],
          "name": "stdout"
        }
      ]
    },
    {
      "cell_type": "code",
      "metadata": {
        "id": "TvTgxrwVaRvW"
      },
      "source": [
        ""
      ],
      "execution_count": null,
      "outputs": []
    }
  ]
}