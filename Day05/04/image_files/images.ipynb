{
 "cells": [
  {
   "cell_type": "markdown",
   "metadata": {},
   "source": [
    "$$\n",
    "\\begin{align*}\n",
    "v_*(s) \n",
    "& = \\max_a \\left( R(s) + \\gamma \\sum_{s' \\in S} P(s' \\mid s,a) v_{\\pi}(s') \\right)\\\\\n",
    "& = R(s) + \\gamma \\max_a \\sum_{s' \\in S} P(s' \\mid s,a) v_{\\pi}(s')\n",
    "\\end{align*}$$"
   ]
  },
  {
   "cell_type": "markdown",
   "metadata": {},
   "source": [
    "$$s$$\n",
    "\n",
    "<br>\n",
    "\n",
    "$$s'$$"
   ]
  },
  {
   "cell_type": "markdown",
   "metadata": {},
   "source": [
    "$$s_1$$\n",
    "\n",
    "<br>\n",
    "\n",
    "$$s_2$$\n",
    "\n",
    "<br>\n",
    "\n",
    "$$s_3$$\n",
    "\n",
    "<br>\n",
    "\n",
    "$$s_4$$\n",
    "\n",
    "<br>\n",
    "\n",
    "$$s_5$$\n",
    "\n",
    "<br>\n",
    "\n",
    "$$4.21$$\n",
    "\n",
    "<br>\n",
    "\n",
    "$$4.88$$\n",
    "\n",
    "<br>\n",
    "\n",
    "$$5.74$$\n",
    "\n",
    "<br>\n",
    "\n",
    "$$6.25$$\n",
    "\n",
    "<br>\n",
    "\n",
    "$$8.51$$\n",
    "\n",
    "<br>\n",
    "\n",
    "$$3.72$$\n",
    "\n",
    "<br>\n",
    "\n",
    "$$4.02$$\n",
    "\n",
    "<br>\n",
    "\n",
    "$$4.48$$\n",
    "\n",
    "<br>\n",
    "\n",
    "$$5.13$$\n",
    "\n",
    "<br>\n",
    "\n",
    "$$5.22$$\n",
    "\n",
    "<br>\n",
    "\n",
    "$$a_1$$\n",
    "\n",
    "<br>\n",
    "\n",
    "$$a_2$$"
   ]
  },
  {
   "cell_type": "markdown",
   "metadata": {},
   "source": [
    "$$Q(s,a)$$\n",
    "\n",
    "<br>\n",
    "\n",
    "$$Q(3,1)$$"
   ]
  },
  {
   "cell_type": "markdown",
   "metadata": {},
   "source": [
    "$$\n",
    "P \\quad = \\quad \\qquad \\begin{bmatrix}\n",
    "0.6 & 0.4 & 0.0 & 0.0 & 0.0 \\\\\n",
    "0.4 & 0.2 & 0.4 & 0.0 & 0.0 \\\\\n",
    "0.0 & 0.4 & 0.2 & 0.4 & 0.0 \\\\\n",
    "0.0 & 0.0 & 0.4 & 0.2 & 0.4 \\\\\n",
    "0.0 & 0.0 & 0.0 & 0.4 & 0.6 \\\\\n",
    "\\end{bmatrix}\n",
    "$$"
   ]
  },
  {
   "cell_type": "markdown",
   "metadata": {},
   "source": [
    "$$i$$\n",
    "\n",
    "<br>\n",
    "\n",
    "$$k$$\n",
    "\n",
    "<br>\n",
    "\n",
    "$$j$$\n",
    "\n",
    "<br>\n",
    "\n",
    "$n-1$ steps\n",
    "\n",
    "<br>\n",
    "\n",
    "$n$ steps\n",
    "\n",
    "<br>\n",
    "\n",
    "$1$ step\n",
    "\n",
    "<br>\n",
    "\n",
    "$$+1$$\n",
    "\n",
    "<br>\n",
    "\n",
    "$$0$$\n",
    "\n",
    "<br>\n",
    "\n",
    "$$+10$$\n",
    "\n",
    "<br>\n",
    "\n",
    "$$1$$\n",
    "\n",
    "<br>\n",
    "\n",
    "$$\\gamma$$\n",
    "\n",
    "<br>\n",
    "\n",
    "$$\\gamma^2$$\n",
    "\n",
    "<br>"
   ]
  },
  {
   "cell_type": "markdown",
   "metadata": {},
   "source": [
    "$$\n",
    "\\begin{bmatrix}\n",
    "v(1)\\\\\n",
    "v(2)\\\\\n",
    "v(3)\\\\\n",
    "v(4)\\\\\n",
    "v(5)\n",
    "\\end{bmatrix}\n",
    "=\n",
    "\\begin{bmatrix}\n",
    "1\\\\0\\\\0\\\\0\\\\10\n",
    "\\end{bmatrix} \n",
    "+ 0.5\n",
    "\\begin{bmatrix}\n",
    "0.6 & 0.4 & 0.0 & 0.0 & 0.0 \\\\\n",
    "0.4 & 0.2 & 0.4 & 0.0 & 0.0 \\\\\n",
    "0.0 & 0.4 & 0.2 & 0.4 & 0.0 \\\\\n",
    "0.0 & 0.0 & 0.4 & 0.2 & 0.4 \\\\\n",
    "0.0 & 0.0 & 0.0 & 0.4 & 0.6 \\\\\n",
    "\\end{bmatrix}\n",
    "\\begin{bmatrix}\n",
    "v(1)\\\\\n",
    "v(2)\\\\\n",
    "v(3)\\\\\n",
    "v(4)\\\\\n",
    "v(5)\n",
    "\\end{bmatrix}\n",
    "$$"
   ]
  },
  {
   "cell_type": "markdown",
   "metadata": {},
   "source": [
    "$$+100$$\n",
    "\n",
    "<br>\n",
    "\n",
    "$$+30$$\n",
    "\n",
    "<br>\n",
    "\n",
    "$$-10$$"
   ]
  },
  {
   "cell_type": "markdown",
   "metadata": {},
   "source": [
    "$$v(\\text{Start}) = \\frac{100-10+30}{3}=+\\,40$$"
   ]
  },
  {
   "cell_type": "markdown",
   "metadata": {},
   "source": [
    "<font color = 'red'>$$+180$$\n",
    "<br>\n",
    "$$+20$$<br><br>\n",
    "$$q_{\\pi}(\\text{Start, Right}) = +180$$    \n",
    "</font>"
   ]
  },
  {
   "cell_type": "markdown",
   "metadata": {},
   "source": [
    "<font color = 'blue'>$$v_{\\pi}(\\text{Start}) = \\frac{100+20}{2}=+\\,60$$<br><br>\n",
    "$$q_{\\pi}(\\text{Start, Left}) = +20$$ </font>"
   ]
  },
  {
   "cell_type": "markdown",
   "metadata": {},
   "source": [
    "<font color = 'blue'>$$+180$$\n",
    "<br>\n",
    "$$+20$$\n",
    "</font>"
   ]
  },
  {
   "cell_type": "markdown",
   "metadata": {},
   "source": [
    "$$v(s) = \\mathbb{E} [ R_{t+1} + \\gamma v(S_{t+1}) \\mid S_t = s ] $$ <br><br>\n",
    "\n",
    "$$v(s) = R_s + \\gamma \\sum_{s' \\in S}P_{ss'}v(s')$$"
   ]
  },
  {
   "cell_type": "markdown",
   "metadata": {},
   "source": [
    "$$R_{t+1}$$\n",
    "\n",
    "<br>\n",
    "\n",
    "$$\\gamma \\mathbb{E}\\left[v(S_{t+1})\\right]$$\n",
    "\n",
    "<br>\n",
    "\n",
    "$$S_{t+1}$$\n",
    "\n",
    "<br>\n",
    "\n",
    "$$S_{t}$$\n",
    "\n",
    "<br>\n",
    "\n",
    "$$S_{t+1}$$\n",
    "\n",
    "<br>\n",
    "\n",
    "$$S_{t+1}$$"
   ]
  },
  {
   "cell_type": "markdown",
   "metadata": {},
   "source": [
    "$$\\mathbb{E} [$$\n",
    "\n",
    "<br>\n",
    "\n",
    "$$]$$\n",
    "\n",
    "<br>\n",
    "\n",
    "$$\\rightarrow$$"
   ]
  },
  {
   "cell_type": "markdown",
   "metadata": {},
   "source": [
    "$$\\cdots$$"
   ]
  },
  {
   "cell_type": "markdown",
   "metadata": {},
   "source": [
    "$$s$$\n",
    "\n",
    "<br>\n",
    "\n",
    "$$s, a$$\n",
    "\n",
    "<br>\n",
    "\n",
    "$$s,a,s'$$\n",
    "\n",
    "<br>\n",
    "\n",
    "$$s'$$"
   ]
  },
  {
   "cell_type": "markdown",
   "metadata": {},
   "source": [
    "$$+1$$\n",
    "\n",
    "<br>\n",
    "\n",
    "$$-1$$\n",
    "\n",
    "<br>\n",
    "\n",
    "$$+10$$"
   ]
  },
  {
   "cell_type": "markdown",
   "metadata": {},
   "source": [
    "$$\n",
    "P(s' \\mid s, L) = \\begin{bmatrix}\n",
    "0 & 0 & 0 & 0 & 0 \\\\\n",
    "1 & 0 & 0 & 0 & 0 \\\\\n",
    "0 & 1 & 0 & 0 & 0 \\\\\n",
    "0 & 0 & 1 & 0 & 0 \\\\\n",
    "0 & 0 & 0 & 1 & 0 \\\\\n",
    "\\end{bmatrix}\n",
    "$$"
   ]
  },
  {
   "cell_type": "markdown",
   "metadata": {},
   "source": [
    "$$\n",
    "P(s' \\mid s, R) = \\begin{bmatrix}\n",
    "0 & 1 & 0 & 0 & 0 \\\\\n",
    "0 & 0 & 1 & 0 & 0 \\\\\n",
    "0 & 0 & 0 & 1 & 0 \\\\\n",
    "0 & 0 & 0 & 0 & 1 \\\\\n",
    "0 & 0 & 0 & 0 & 0 \\\\\n",
    "\\end{bmatrix}\n",
    "$$"
   ]
  },
  {
   "cell_type": "markdown",
   "metadata": {},
   "source": [
    "$$0.2$$\n",
    "\n",
    "<br>\n",
    "\n",
    "$$0.3$$\n",
    "\n",
    "<br>\n",
    "\n",
    "$$0.5$$\n",
    "\n",
    "<br>\n",
    "\n",
    "$$0.6$$\n",
    "\n",
    "<br>\n",
    "\n",
    "$$0.1$$\n",
    "\n",
    "<br>\n",
    "\n",
    "$$0.5$$\n",
    "\n",
    "<br>\n",
    "\n",
    "$$10$$\n",
    "\n",
    "<br>\n",
    "\n",
    "$$5$$\n",
    "\n",
    "<br>\n",
    "\n",
    "$$2$$"
   ]
  },
  {
   "cell_type": "markdown",
   "metadata": {},
   "source": [
    "$$v_{\\pi}$$\n",
    "\n",
    "<br>\n",
    "\n",
    "$$v_{*}$$\n",
    "\n",
    "<br>\n",
    "\n",
    "$$v = v_{\\pi}$$\n",
    "\n",
    "<br>\n",
    "\n",
    "$$\\text{improvement} \\quad \\pi = \\text{greedy} (v)$$\n",
    "\n",
    "<br>\n",
    "\n",
    "$$\\text{starting } \\, v_{\\pi}$$\n",
    "\n",
    "<br>\n",
    "\n",
    "$${\\pi}_{*}$$\n",
    "\n",
    "<br>\n",
    "\n",
    "$$\\text{evaluation}$$"
   ]
  },
  {
   "cell_type": "code",
   "execution_count": null,
   "metadata": {},
   "outputs": [],
   "source": []
  },
  {
   "cell_type": "code",
   "execution_count": null,
   "metadata": {},
   "outputs": [],
   "source": []
  }
 ],
 "metadata": {
  "kernelspec": {
   "display_name": "Python 3",
   "language": "python",
   "name": "python3"
  },
  "language_info": {
   "codemirror_mode": {
    "name": "ipython",
    "version": 3
   },
   "file_extension": ".py",
   "mimetype": "text/x-python",
   "name": "python",
   "nbconvert_exporter": "python",
   "pygments_lexer": "ipython3",
   "version": "3.5.3"
  }
 },
 "nbformat": 4,
 "nbformat_minor": 2
}
