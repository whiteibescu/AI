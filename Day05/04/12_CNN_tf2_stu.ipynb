{
 "cells": [
  {
   "cell_type": "markdown",
   "metadata": {
    "slideshow": {
     "slide_type": "slide"
    }
   },
   "source": [
    "<br><br>\n",
    "<font size='6'><b>Convolutional Neural Networks (CNN)\n",
    "</b></font><br><br>\n",
    "\n",
    "<br>\n",
    "<div class=pull-right>\n",
    "By Prof. Seungchul Lee<br>\n",
    "http://iai.postech.ac.kr/<br>\n",
    "Industrial AI Lab at POSTECH\n",
    "</div>"
   ]
  },
  {
   "cell_type": "markdown",
   "metadata": {
    "slideshow": {
     "slide_type": "subslide"
    }
   },
   "source": [
    "Table of Contents\n",
    "<div id=\"toc\"></div>"
   ]
  },
  {
   "cell_type": "markdown",
   "metadata": {
    "slideshow": {
     "slide_type": "subslide"
    }
   },
   "source": [
    "# 1. Convolution\n",
    "\n",
    "## 1.1. 1D Convolution\n",
    "\n",
    "<br>\n",
    "<center><img src=\"./image_files/1d_conv.png\" width = 500></center>\n",
    "\n",
    "\n",
    "## 1.2. Convolution on Image (= Convolution in 2D)\n",
    "\n",
    "__Filter (or Kernel)__\n",
    "- Modify or enhance an image by filtering\n",
    "- Filter images to emphasize certain features or remove other features\n",
    "- Filtering includes smoothing, sharpening and edge enhancement\n",
    "\n",
    "- Discrete convolution can be viewed as element-wise multiplication by a matrix\n",
    "\n",
    "<br>\n",
    "<center><img src=\"./image_files/conv_animation.gif\" width = 350></center>\n",
    "\n",
    "<center><img src=\"./image_files/conv_lena.png\" width = 800></center>\n",
    "\n",
    "\n",
    "\n",
    "__How to find the right Kernels__\n",
    "\n",
    "\n",
    "- We learn many different kernels that make specific effect on images\n",
    "\n",
    "- Let’s apply an opposite approach\n",
    "\n",
    "- We are not designing the kernel, but are learning the kernel from data\n",
    "\n",
    "- Can learn feature extractor from data using a deep learning framework"
   ]
  },
  {
   "cell_type": "markdown",
   "metadata": {
    "slideshow": {
     "slide_type": "slide"
    }
   },
   "source": [
    "# 2. Convolutional Neural Networks (CNN)\n",
    "\n",
    "\n",
    "## 2.1. Motivation: Learning Visual Features\n",
    "\n",
    "<br>\n",
    "The bird occupies a local area and looks the same in different parts of an image. We should construct neural networks which exploit these properties.\n",
    "\n",
    "<br><br>\n",
    "<center><img src=\"./image_files/cnn_motivation.png\" width = 800></center>\n",
    "\n",
    "- ANN structure for object detecion in image\n",
    "\n",
    "    - does not seem the best\n",
    "    - did not make use of the fact that we are dealing with images\n",
    "    - Spatial organization of the input is destroyed by flattening\n",
    "\n",
    "<br>\n",
    "<center><img src=\"./image_files/bird_ANN.png\" width = 600></center>\n"
   ]
  },
  {
   "cell_type": "markdown",
   "metadata": {
    "slideshow": {
     "slide_type": "subslide"
    }
   },
   "source": [
    "<br>\n",
    "\n",
    "- __Locality__: objects tend to have a local spatial support\n",
    "    - fully and convolutionally connected layer $\\rightarrow$ locally and convolutionally connected layer\n",
    "\n",
    "<br>\n",
    "<center><img src=\"./image_files/cnn_locality.png\" width = 600></center>\n",
    "<br>\n",
    "\n",
    "- __Translation invariance__: object appearance is independent of location\n",
    "    - Weight sharing: untis connected to different locations have the same weights\n",
    "    - We are not designing the kernel, but are learning the kernel from data\n",
    "    - _i.e._ We are learning visual feature extractor from data\n",
    "\n",
    "<br>\n",
    "<center><img src=\"./image_files/translation_invariance.png\" width = 600></center>"
   ]
  },
  {
   "cell_type": "markdown",
   "metadata": {
    "slideshow": {
     "slide_type": "slide"
    }
   },
   "source": [
    "## 2.2. Convolutional Operator\n",
    "\n",
    "__Convolution of CNN__\n",
    "\n",
    "- Local connectivity\n",
    "- Weight sharing\n",
    "- Typically have sparse interactions\n",
    "\n",
    "- Convolutional Neural Networks\n",
    "    - Simply neural networks that use the convolution in place of general matrix multiplication in at least one of their layers\n",
    "   "
   ]
  },
  {
   "cell_type": "markdown",
   "metadata": {
    "slideshow": {
     "slide_type": "subslide"
    }
   },
   "source": [
    "- Multiple channels\n",
    "\n",
    "<br>\n",
    "<center><img src=\"./image_files/mult_channel_01.png\" width = 400></center>\n",
    "\n",
    "\n",
    "- Multiple kernels\n",
    "\n",
    "<br>\n",
    "<center><img src=\"./image_files/multi_kernels.png\" width = 400></center>\n",
    "\n"
   ]
  },
  {
   "cell_type": "markdown",
   "metadata": {},
   "source": [
    "## 2.3 Stride and Padding"
   ]
  },
  {
   "cell_type": "markdown",
   "metadata": {},
   "source": [
    "- Strides: increment step size for the convolution operator\n",
    "    - Reduces the size of the output map\n",
    "\n",
    "\n",
    "- No stride and no padding\n",
    "\n",
    "<br>\n",
    "<center><img src=\"./image_files/no_padding_no_strides.gif\" width = 300></center>\n",
    "\n",
    "- Stride example with kernel size 3×3 and a stride of 2\n",
    "\n",
    "<br>\n",
    "<center><img src=\"./image_files/stride_example.gif\" width = 300></center>\n",
    "\n",
    "\n",
    "- Padding: artificially fill borders of image\n",
    "    - Useful to keep spatial dimension constant across filters\n",
    "    - Useful with strides and large receptive fields\n",
    "    - Usually fill with 0s\n",
    "\n",
    "<br>\n",
    "<center><img src=\"./image_files/same_padding_no_strides.gif\" width = 300></center>\n"
   ]
  },
  {
   "cell_type": "markdown",
   "metadata": {},
   "source": [
    "## 2.4. Nonlinear Activation Function\n",
    "\n",
    "<br>\n",
    "<center><img src=\"./image_files/ReLU.png\" width = 500></center>"
   ]
  },
  {
   "cell_type": "markdown",
   "metadata": {
    "slideshow": {
     "slide_type": "slide"
    }
   },
   "source": [
    "## 2.5. Pooling\n",
    "- Compute a maximum value in a sliding window (max pooling)\n",
    "    - Reduce spatial resolution for faster computation\n",
    "    - Achieve invariance to any permutation inside one of the cell\n",
    "\n",
    "<br>\n",
    "<center><img src=\"./image_files/pooling_invariance.png\" width = 700></center>\n",
    "\n",
    "- Pooling size : $2\\times2$ for example\n",
    "\n",
    "\n",
    "<center><img src=\"./image_files/Max_pooling_image.png\" width = 500></center>\n"
   ]
  },
  {
   "cell_type": "markdown",
   "metadata": {},
   "source": [
    "## 2.6. CNN for Classification \n",
    "\n",
    "- CONV and POOL layers output high-level features of input\n",
    "- Fully connected layer uses these features for classifying input image\n",
    "- Express output as probability of image belonging to a particular class\n",
    "\n",
    "\n",
    "<br>\n",
    "<center><img src=\"./image_files/cnn_clf.png\" width = 900></center>\n",
    "<br>"
   ]
  },
  {
   "cell_type": "markdown",
   "metadata": {
    "slideshow": {
     "slide_type": "slide"
    }
   },
   "source": [
    "# 3. Lab: CNN with TensorFlow (MNIST)\n",
    "\n",
    "\n",
    "- MNIST example \n",
    "- To classify handwritten digits\n",
    "\n",
    "<br>\n",
    "<center><img src=\"./image_files/CNN_arch.png\" width = 900></center>\n",
    "<br>"
   ]
  },
  {
   "cell_type": "markdown",
   "metadata": {},
   "source": [
    "## 3.1. Training"
   ]
  },
  {
   "cell_type": "code",
   "execution_count": null,
   "metadata": {
    "ExecuteTime": {
     "end_time": "2021-07-30T02:23:25.415660Z",
     "start_time": "2021-07-30T02:23:19.782020Z"
    }
   },
   "outputs": [],
   "source": []
  },
  {
   "cell_type": "code",
   "execution_count": null,
   "metadata": {
    "ExecuteTime": {
     "end_time": "2021-07-30T02:23:25.755546Z",
     "start_time": "2021-07-30T02:23:25.416638Z"
    }
   },
   "outputs": [],
   "source": []
  },
  {
   "cell_type": "code",
   "execution_count": null,
   "metadata": {
    "ExecuteTime": {
     "end_time": "2021-07-30T02:23:26.004177Z",
     "start_time": "2021-07-30T02:23:25.756514Z"
    },
    "slideshow": {
     "slide_type": "fragment"
    }
   },
   "outputs": [],
   "source": []
  },
  {
   "cell_type": "code",
   "execution_count": null,
   "metadata": {
    "ExecuteTime": {
     "end_time": "2021-07-30T02:23:26.019818Z",
     "start_time": "2021-07-30T02:23:26.005604Z"
    },
    "slideshow": {
     "slide_type": "fragment"
    }
   },
   "outputs": [],
   "source": []
  },
  {
   "cell_type": "code",
   "execution_count": null,
   "metadata": {
    "ExecuteTime": {
     "end_time": "2021-07-30T02:23:48.528701Z",
     "start_time": "2021-07-30T02:23:26.020815Z"
    },
    "scrolled": false,
    "slideshow": {
     "slide_type": "fragment"
    }
   },
   "outputs": [],
   "source": []
  },
  {
   "cell_type": "markdown",
   "metadata": {
    "slideshow": {
     "slide_type": "slide"
    }
   },
   "source": [
    "## 3.2. Testing or Evaluating"
   ]
  },
  {
   "cell_type": "code",
   "execution_count": null,
   "metadata": {
    "ExecuteTime": {
     "end_time": "2021-07-30T02:23:50.042768Z",
     "start_time": "2021-07-30T02:23:48.529698Z"
    },
    "slideshow": {
     "slide_type": "fragment"
    }
   },
   "outputs": [],
   "source": []
  },
  {
   "cell_type": "code",
   "execution_count": null,
   "metadata": {
    "ExecuteTime": {
     "end_time": "2021-07-30T02:23:50.394567Z",
     "start_time": "2021-07-30T02:23:50.044275Z"
    }
   },
   "outputs": [],
   "source": [
    "test_img = test_x[np.random.choice(test_x.shape[0], 1)]\n",
    "\n",
    "predict = model.predict_on_batch(test_img)\n",
    "mypred = np.argmax(predict, axis = 1)\n",
    "\n",
    "plt.figure(figsize = (12,5))\n",
    "\n",
    "plt.subplot(1,2,1)\n",
    "plt.imshow(test_img.reshape(28, 28), 'gray')\n",
    "plt.axis('off')\n",
    "plt.subplot(1,2,2)\n",
    "plt.stem(predict[0])\n",
    "plt.show()\n",
    "\n",
    "print('Prediction : {}'.format(mypred[0]))"
   ]
  },
  {
   "cell_type": "markdown",
   "metadata": {},
   "source": [
    "# 4. Lab: CNN with Tensorflow (Steel Surface Defects)\n",
    "\n",
    "- NEU steel surface defects example \n",
    "- To classify defects images into 6 classes\n",
    "\n",
    "<br>\n",
    "<center><img src=\"./image_files/NEU.jpg\" width = 700></center>\n",
    "<br>\n",
    "\n",
    "Download [NEU steel surface defects](http://faculty.neu.edu.cn/yunhyan/NEU_surface_defect_database.html) images and labels \n",
    "\n",
    "- [NEU train images](https://www.dropbox.com/s/5fcdf9zfj95dztt/NEU_train_imgs.npy?dl=1)\n",
    "- [NEU train labels](https://www.dropbox.com/s/0sy8nd8auwrt43m/NEU_train_labels.npy?dl=1)\n",
    "- [NEU test images](https://www.dropbox.com/s/znjylp2hwnro2j6/NEU_test_imgs.npy?dl=1)\n",
    "- [NEU test labels](https://www.dropbox.com/s/rm18trt9lr32bxb/NEU_test_labels.npy?dl=1)"
   ]
  },
  {
   "cell_type": "markdown",
   "metadata": {},
   "source": [
    "## 4.1. Training"
   ]
  },
  {
   "cell_type": "code",
   "execution_count": null,
   "metadata": {
    "ExecuteTime": {
     "end_time": "2021-07-30T02:23:50.674744Z",
     "start_time": "2021-07-30T02:23:50.397539Z"
    }
   },
   "outputs": [],
   "source": []
  },
  {
   "cell_type": "code",
   "execution_count": null,
   "metadata": {
    "ExecuteTime": {
     "end_time": "2021-07-30T02:23:50.784451Z",
     "start_time": "2021-07-30T02:23:50.675741Z"
    }
   },
   "outputs": [],
   "source": []
  },
  {
   "cell_type": "code",
   "execution_count": null,
   "metadata": {
    "ExecuteTime": {
     "end_time": "2021-07-30T02:23:50.799410Z",
     "start_time": "2021-07-30T02:23:50.785448Z"
    }
   },
   "outputs": [],
   "source": []
  },
  {
   "cell_type": "code",
   "execution_count": null,
   "metadata": {
    "ExecuteTime": {
     "end_time": "2021-07-30T02:28:18.225017Z",
     "start_time": "2021-07-30T02:23:50.800408Z"
    }
   },
   "outputs": [],
   "source": []
  },
  {
   "cell_type": "markdown",
   "metadata": {},
   "source": [
    "## 4.2. Testing or Evaluating"
   ]
  },
  {
   "cell_type": "code",
   "execution_count": null,
   "metadata": {
    "ExecuteTime": {
     "end_time": "2021-07-30T02:28:19.608897Z",
     "start_time": "2021-07-30T02:28:18.226015Z"
    }
   },
   "outputs": [],
   "source": []
  },
  {
   "cell_type": "code",
   "execution_count": null,
   "metadata": {
    "ExecuteTime": {
     "end_time": "2021-07-30T02:28:19.813290Z",
     "start_time": "2021-07-30T02:28:19.609896Z"
    }
   },
   "outputs": [],
   "source": [
    "name = ['scratches', 'rolled-in scale', 'pitted surface', 'patches', 'inclusion', 'crazing']\n",
    "\n",
    "idx = np.random.choice(test_x.shape[0], 1)\n",
    "test_img = test_x[idx]\n",
    "GT = test_y[idx]\n",
    "\n",
    "predict = model.predict_on_batch(test_img)\n",
    "mypred = np.argmax(predict, axis = 1)\n",
    "\n",
    "plt.figure(figsize = (12,5))\n",
    "\n",
    "plt.subplot(1,2,1)\n",
    "plt.imshow(test_img.reshape(200, 200), 'gray')\n",
    "plt.axis('off')\n",
    "plt.subplot(1,2,2)\n",
    "plt.stem(predict[0])\n",
    "plt.show()\n",
    "\n",
    "print('Prediction : {}'.format(name[mypred[0]]))\n",
    "print('Ground Truth : {}'.format(name[GT[0]]))"
   ]
  },
  {
   "cell_type": "code",
   "execution_count": null,
   "metadata": {
    "ExecuteTime": {
     "end_time": "2021-07-30T02:28:19.829316Z",
     "start_time": "2021-07-30T02:28:19.815286Z"
    },
    "slideshow": {
     "slide_type": "skip"
    }
   },
   "outputs": [],
   "source": [
    "%%javascript\n",
    "$.getScript('https://kmahelona.github.io/ipython_notebook_goodies/ipython_notebook_toc.js')"
   ]
  }
 ],
 "metadata": {
  "anaconda-cloud": {},
  "kernelspec": {
   "display_name": "Python 3",
   "language": "python",
   "name": "python3"
  },
  "language_info": {
   "codemirror_mode": {
    "name": "ipython",
    "version": 3
   },
   "file_extension": ".py",
   "mimetype": "text/x-python",
   "name": "python",
   "nbconvert_exporter": "python",
   "pygments_lexer": "ipython3",
   "version": "3.8.10"
  },
  "toc": {
   "base_numbering": 1,
   "nav_menu": {},
   "number_sections": false,
   "sideBar": true,
   "skip_h1_title": false,
   "title_cell": "Table of Contents",
   "title_sidebar": "Contents",
   "toc_cell": false,
   "toc_position": {},
   "toc_section_display": true,
   "toc_window_display": false
  },
  "varInspector": {
   "cols": {
    "lenName": 16,
    "lenType": 16,
    "lenVar": 40
   },
   "kernels_config": {
    "python": {
     "delete_cmd_postfix": "",
     "delete_cmd_prefix": "del ",
     "library": "var_list.py",
     "varRefreshCmd": "print(var_dic_list())"
    },
    "r": {
     "delete_cmd_postfix": ") ",
     "delete_cmd_prefix": "rm(",
     "library": "var_list.r",
     "varRefreshCmd": "cat(var_dic_list()) "
    }
   },
   "types_to_exclude": [
    "module",
    "function",
    "builtin_function_or_method",
    "instance",
    "_Feature"
   ],
   "window_display": false
  }
 },
 "nbformat": 4,
 "nbformat_minor": 1
}
