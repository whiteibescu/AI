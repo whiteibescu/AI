{
 "cells": [
  {
   "cell_type": "markdown",
   "metadata": {
    "slideshow": {
     "slide_type": "slide"
    }
   },
   "source": [
    "<br><br>\n",
    "<font size='6'><b>Autoencoder\n",
    "</b></font><br><br>\n",
    "\n",
    "<br>\n",
    "<div class=pull-right>\n",
    "By Prof. Seungchul Lee<br>\n",
    "http://iai.postech.ac.kr/<br>\n",
    "Industrial AI Lab at POSTECH\n",
    "</div>"
   ]
  },
  {
   "cell_type": "markdown",
   "metadata": {
    "slideshow": {
     "slide_type": "subslide"
    }
   },
   "source": [
    "Table of Contents\n",
    "<div id=\"toc\"></div>"
   ]
  },
  {
   "cell_type": "markdown",
   "metadata": {
    "slideshow": {
     "slide_type": "slide"
    }
   },
   "source": [
    "# 1. Unsupervised Learning\n",
    "\n",
    "<br>\n",
    "\n",
    "__Definition__\n",
    "\n",
    "- Unsupervised learning refers to most attempts to extract information from a distribution that do not require human labor to annotate example\n",
    "- Main task is to find the 'best' representation of the data\n",
    "\n",
    "__Dimension Reduction__\n",
    "- Attempt to compress as much information as possible in a smaller representation\n",
    "- Preserve as much information as possible while obeying some constraint aimed at keeping the representation simpler"
   ]
  },
  {
   "cell_type": "markdown",
   "metadata": {
    "slideshow": {
     "slide_type": "slide"
    }
   },
   "source": [
    "# 2. Autoencoders\n",
    "\n",
    "\n",
    "It is like 'deep learning version' of unsupervised learning.\n",
    "\n",
    "\n",
    "__Definition__\n",
    "\n",
    "- An autoencoder is a neural network that is trained to attempt to copy its input to its output\n",
    "- The network consists of two parts: an __encoder__ and a __decoder__ that produce a reconstruction\n",
    "\n",
    "\n",
    "__Encoder and Decoder__\n",
    "\n",
    "- Encoder function : $z = f(x)$\n",
    "- Decoder function : $x = g(z)$\n",
    "- We learn to set $g\\left(f(x)\\right) = x$"
   ]
  },
  {
   "cell_type": "markdown",
   "metadata": {
    "slideshow": {
     "slide_type": "subslide"
    }
   },
   "source": [
    "<br>\n",
    "<center><img src=\"./image_files/autoencoder_before.png\" width = 600></center>\n",
    "<br>\n",
    "\n",
    "<br>\n",
    "<center><img src=\"./image_files/autoencoder.png\" width = 600></center>\n",
    "<br>"
   ]
  },
  {
   "cell_type": "markdown",
   "metadata": {
    "slideshow": {
     "slide_type": "slide"
    }
   },
   "source": [
    "# 3. Autoencoder with TensorFlow\n",
    "\n",
    "- MNIST example\n",
    "\n",
    "\n",
    "- Use only (1, 5, 6) digits to visualize in 2-D\n",
    "\n",
    "\n",
    "<br>\n",
    "<center><img src=\"./image_files/AE_arch2.png\" width = 800></center>"
   ]
  },
  {
   "cell_type": "code",
   "execution_count": 1,
   "metadata": {
    "ExecuteTime": {
     "end_time": "2021-07-29T02:05:30.526653Z",
     "start_time": "2021-07-29T02:05:27.364542Z"
    },
    "slideshow": {
     "slide_type": "fragment"
    }
   },
   "outputs": [],
   "source": [
    "import numpy as np\n",
    "import matplotlib.pyplot as plt\n",
    "import tensorflow as tf\n",
    "%matplotlib inline"
   ]
  },
  {
   "cell_type": "code",
   "execution_count": 2,
   "metadata": {
    "ExecuteTime": {
     "end_time": "2021-07-29T02:05:30.836282Z",
     "start_time": "2021-07-29T02:05:30.527651Z"
    },
    "slideshow": {
     "slide_type": "fragment"
    }
   },
   "outputs": [],
   "source": [
    "# Load Data\n"
   ]
  },
  {
   "cell_type": "code",
   "execution_count": 3,
   "metadata": {
    "ExecuteTime": {
     "end_time": "2021-07-29T02:05:30.881358Z",
     "start_time": "2021-07-29T02:05:30.837282Z"
    }
   },
   "outputs": [],
   "source": [
    "# Use Only 1,5,6 Digits to Visualize\n"
   ]
  },
  {
   "cell_type": "code",
   "execution_count": 4,
   "metadata": {
    "ExecuteTime": {
     "end_time": "2021-07-29T02:05:30.896648Z",
     "start_time": "2021-07-29T02:05:30.882327Z"
    }
   },
   "outputs": [
    {
     "data": {
      "text/plain": [
       "(18081, 28, 28)"
      ]
     },
     "execution_count": 4,
     "metadata": {},
     "output_type": "execute_result"
    }
   ],
   "source": []
  },
  {
   "cell_type": "code",
   "execution_count": 5,
   "metadata": {
    "ExecuteTime": {
     "end_time": "2021-07-29T02:05:30.912737Z",
     "start_time": "2021-07-29T02:05:30.897776Z"
    }
   },
   "outputs": [],
   "source": [
    "# Flattening\n"
   ]
  },
  {
   "cell_type": "markdown",
   "metadata": {
    "slideshow": {
     "slide_type": "slide"
    }
   },
   "source": [
    "## 3.1. Define a Structure of an Autoencoder\n",
    "- Input shape and latent variable shape\n",
    "- Encoder shape\n",
    "- Decoder shape\n",
    "\n",
    "<br>\n",
    "<center><img src=\"./image_files/AE_arch2.png\" width = 700></center>"
   ]
  },
  {
   "cell_type": "code",
   "execution_count": 6,
   "metadata": {
    "ExecuteTime": {
     "end_time": "2021-07-29T02:05:31.029398Z",
     "start_time": "2021-07-29T02:05:30.914731Z"
    }
   },
   "outputs": [],
   "source": [
    "# Define Structure\n",
    "\n",
    "# Encoder Structure\n",
    "\n",
    "# Decoder Structure\n",
    "\n",
    "# Autoencoder = Encoder + Decoder\n"
   ]
  },
  {
   "cell_type": "markdown",
   "metadata": {
    "slideshow": {
     "slide_type": "slide"
    }
   },
   "source": [
    "## 3.2. Define Loss and Optimizer\n",
    "\n",
    "__Loss__\n",
    "\n",
    "- Squared loss\n",
    "\n",
    "\n",
    "$$  \\frac{1}{m}\\sum_{i=1}^{m} (t_{i} - y_{i})^2 $$\n",
    "\n",
    "\n",
    "__Optimizer__\n",
    "\n",
    "- AdamOptimizer: the most popular optimizer"
   ]
  },
  {
   "cell_type": "code",
   "execution_count": 7,
   "metadata": {
    "ExecuteTime": {
     "end_time": "2021-07-29T02:05:31.044681Z",
     "start_time": "2021-07-29T02:05:31.030368Z"
    },
    "slideshow": {
     "slide_type": "fragment"
    }
   },
   "outputs": [],
   "source": []
  },
  {
   "cell_type": "code",
   "execution_count": 8,
   "metadata": {
    "ExecuteTime": {
     "end_time": "2021-07-29T02:05:46.923180Z",
     "start_time": "2021-07-29T02:05:31.045652Z"
    },
    "scrolled": true,
    "slideshow": {
     "slide_type": "fragment"
    }
   },
   "outputs": [
    {
     "name": "stdout",
     "output_type": "stream",
     "text": [
      "Epoch 1/10\n",
      "362/362 [==============================] - 2s 4ms/step - loss: 0.0375\n",
      "Epoch 2/10\n",
      "362/362 [==============================] - 1s 4ms/step - loss: 0.0304\n",
      "Epoch 3/10\n",
      "362/362 [==============================] - 2s 4ms/step - loss: 0.0291\n",
      "Epoch 4/10\n",
      "362/362 [==============================] - 2s 4ms/step - loss: 0.0281\n",
      "Epoch 5/10\n",
      "362/362 [==============================] - 2s 4ms/step - loss: 0.0276\n",
      "Epoch 6/10\n",
      "362/362 [==============================] - 2s 4ms/step - loss: 0.0272\n",
      "Epoch 7/10\n",
      "362/362 [==============================] - 2s 4ms/step - loss: 0.0268\n",
      "Epoch 8/10\n",
      "362/362 [==============================] - 1s 4ms/step - loss: 0.0266\n",
      "Epoch 9/10\n",
      "362/362 [==============================] - 2s 4ms/step - loss: 0.0264\n",
      "Epoch 10/10\n",
      "362/362 [==============================] - 1s 4ms/step - loss: 0.0261\n"
     ]
    }
   ],
   "source": []
  },
  {
   "cell_type": "markdown",
   "metadata": {
    "slideshow": {
     "slide_type": "slide"
    }
   },
   "source": [
    "## 3.3. Test or Evaluate\n",
    "- Test reconstruction performance of the autoencoder"
   ]
  },
  {
   "cell_type": "code",
   "execution_count": 9,
   "metadata": {
    "ExecuteTime": {
     "end_time": "2021-07-29T02:05:47.199566Z",
     "start_time": "2021-07-29T02:05:46.924178Z"
    }
   },
   "outputs": [
    {
     "name": "stdout",
     "output_type": "stream",
     "text": [
      "94/94 [==============================] - 0s 2ms/step - loss: 0.0267\n"
     ]
    }
   ],
   "source": []
  },
  {
   "cell_type": "code",
   "execution_count": 10,
   "metadata": {
    "ExecuteTime": {
     "end_time": "2021-07-29T02:05:47.370136Z",
     "start_time": "2021-07-29T02:05:47.200563Z"
    },
    "slideshow": {
     "slide_type": "fragment"
    }
   },
   "outputs": [
    {
     "data": {
      "image/png": "[encoded data removed]",
      "text/plain": [
       "<Figure size 720x576 with 2 Axes>"
      ]
     },
     "metadata": {},
     "output_type": "display_data"
    }
   ],
   "source": [
    "# Visualize Evaluation on Test Data\n",
    "\n",
    "\n",
    "plt.figure(figsize = (10, 8))\n",
    "plt.subplot(1,2,1)\n",
    "plt.imshow(test_img.reshape(28,28), 'gray')\n",
    "plt.title('Input Image', fontsize = 12)\n",
    "\n",
    "plt.xticks([])\n",
    "plt.yticks([])\n",
    "plt.subplot(1,2,2)\n",
    "plt.imshow(reconst_img.reshape(28,28), 'gray')\n",
    "plt.title('Reconstructed Image', fontsize = 12)\n",
    "plt.xticks([])\n",
    "plt.yticks([])\n",
    "\n",
    "plt.show()"
   ]
  },
  {
   "cell_type": "markdown",
   "metadata": {},
   "source": [
    "# 4. Latent Space and Generation\n",
    "\n",
    "- To see the distribution of latent variables, we make a projection of 784-dimensional image space onto 2-dimensional latent space"
   ]
  },
  {
   "cell_type": "code",
   "execution_count": null,
   "metadata": {},
   "outputs": [],
   "source": []
  },
  {
   "cell_type": "code",
   "execution_count": 12,
   "metadata": {
    "ExecuteTime": {
     "end_time": "2021-07-29T02:05:47.622112Z",
     "start_time": "2021-07-29T02:05:47.386496Z"
    },
    "scrolled": false
   },
   "outputs": [
    {
     "data": {
      "image/png": "[encoded data removed]",
      "text/plain": [
       "<Figure size 720x720 with 1 Axes>"
      ]
     },
     "metadata": {
      "needs_background": "light"
     },
     "output_type": "display_data"
    }
   ],
   "source": [
    "\n",
    "\n",
    "plt.figure(figsize = (10,10))\n",
    "plt.scatter(rnd_latent[rnd_y == 1, 0], rnd_latent[rnd_y == 1, 1], label = '1')\n",
    "plt.scatter(rnd_latent[rnd_y == 5, 0], rnd_latent[rnd_y == 5, 1], label = '5')\n",
    "plt.scatter(rnd_latent[rnd_y == 6, 0], rnd_latent[rnd_y == 6, 1], label = '6')\n",
    "plt.title('Latent Space', fontsize = 15)\n",
    "plt.xlabel('Z1', fontsize = 15)\n",
    "plt.ylabel('Z2', fontsize = 15)\n",
    "plt.legend(fontsize = 15)\n",
    "plt.axis('equal')\n",
    "plt.show()"
   ]
  },
  {
   "cell_type": "markdown",
   "metadata": {
    "slideshow": {
     "slide_type": "subslide"
    }
   },
   "source": [
    "__Data Generation__\n",
    "\n",
    "- It generates something that makes sense.\n",
    "\n",
    "- These results are unsatisfying, because the density model used on the latent space ℱ is too simple and inadequate.\n",
    "\n",
    "- Building a “good” model amounts to our original problem of modeling an empirical distribution, although it may now be in a lower dimension space.\n",
    "\n",
    "- This is a motivation to VAE or GAN.\n"
   ]
  },
  {
   "cell_type": "code",
   "execution_count": 13,
   "metadata": {
    "ExecuteTime": {
     "end_time": "2021-07-29T02:05:47.875779Z",
     "start_time": "2021-07-29T02:05:47.623111Z"
    }
   },
   "outputs": [
    {
     "data": {
      "image/png": "[encoded data removed]",
      "text/plain": [
       "<Figure size 1152x504 with 2 Axes>"
      ]
     },
     "metadata": {
      "needs_background": "light"
     },
     "output_type": "display_data"
    }
   ],
   "source": [
    "\n",
    "\n",
    "plt.figure(figsize = (16,7))\n",
    "plt.subplot(1,2,1)\n",
    "plt.scatter(rnd_latent[rnd_y == 1, 0], rnd_latent[rnd_y == 1, 1], label = '1')\n",
    "plt.scatter(rnd_latent[rnd_y == 5, 0], rnd_latent[rnd_y == 5, 1], label = '5')\n",
    "plt.scatter(rnd_latent[rnd_y == 6, 0], rnd_latent[rnd_y == 6, 1], label = '6')\n",
    "plt.scatter(new_latent[:,0], new_latent[:,1], c = 'k', marker = 'o', s = 200, label = 'new data')\n",
    "plt.title('Latent Space', fontsize = 15)\n",
    "plt.xlabel('Z1', fontsize = 15)\n",
    "plt.ylabel('Z2', fontsize = 15)\n",
    "plt.legend(loc = 2, fontsize = 12)\n",
    "plt.axis('equal')\n",
    "plt.subplot(1,2,2)\n",
    "plt.imshow(fake_img.reshape(28,28), 'gray')\n",
    "plt.title('Generated Fake Image', fontsize = 15)\n",
    "plt.xticks([])\n",
    "plt.yticks([])\n",
    "plt.show()"
   ]
  },
  {
   "cell_type": "code",
   "execution_count": 14,
   "metadata": {
    "ExecuteTime": {
     "end_time": "2021-07-29T02:05:47.891729Z",
     "start_time": "2021-07-29T02:05:47.876796Z"
    },
    "slideshow": {
     "slide_type": "skip"
    }
   },
   "outputs": [
    {
     "data": {
      "application/javascript": [
       "$.getScript('https://kmahelona.github.io/ipython_notebook_goodies/ipython_notebook_toc.js')\n"
      ],
      "text/plain": [
       "<IPython.core.display.Javascript object>"
      ]
     },
     "metadata": {},
     "output_type": "display_data"
    }
   ],
   "source": [
    "%%javascript\n",
    "$.getScript('https://kmahelona.github.io/ipython_notebook_goodies/ipython_notebook_toc.js')"
   ]
  }
 ],
 "metadata": {
  "anaconda-cloud": {},
  "kernelspec": {
   "display_name": "Python 3",
   "language": "python",
   "name": "python3"
  },
  "language_info": {
   "codemirror_mode": {
    "name": "ipython",
    "version": 3
   },
   "file_extension": ".py",
   "mimetype": "text/x-python",
   "name": "python",
   "nbconvert_exporter": "python",
   "pygments_lexer": "ipython3",
   "version": "3.8.10"
  },
  "toc": {
   "base_numbering": 1,
   "nav_menu": {},
   "number_sections": false,
   "sideBar": true,
   "skip_h1_title": false,
   "title_cell": "Table of Contents",
   "title_sidebar": "Contents",
   "toc_cell": false,
   "toc_position": {},
   "toc_section_display": true,
   "toc_window_display": false
  },
  "varInspector": {
   "cols": {
    "lenName": 16,
    "lenType": 16,
    "lenVar": 40
   },
   "kernels_config": {
    "python": {
     "delete_cmd_postfix": "",
     "delete_cmd_prefix": "del ",
     "library": "var_list.py",
     "varRefreshCmd": "print(var_dic_list())"
    },
    "r": {
     "delete_cmd_postfix": ") ",
     "delete_cmd_prefix": "rm(",
     "library": "var_list.r",
     "varRefreshCmd": "cat(var_dic_list()) "
    }
   },
   "types_to_exclude": [
    "module",
    "function",
    "builtin_function_or_method",
    "instance",
    "_Feature"
   ],
   "window_display": false
  }
 },
 "nbformat": 4,
 "nbformat_minor": 2
}
